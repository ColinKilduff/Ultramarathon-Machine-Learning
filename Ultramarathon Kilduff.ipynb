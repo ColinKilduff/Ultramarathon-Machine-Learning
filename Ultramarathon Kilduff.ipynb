{
 "cells": [
  {
   "cell_type": "markdown",
   "id": "c6aee101",
   "metadata": {},
   "source": [
    "# Ultramarathon Study"
   ]
  },
  {
   "cell_type": "markdown",
   "id": "19b85fd7",
   "metadata": {},
   "source": [
    "In this study we are considering the effects of running ultramarathons before the age of 19 effects life outcomes at the age of 25, including but not limited to running status, alcohol usage, weight/height and employment.\n",
    "An ultramarathon is any race distance longer than a marathon. For those daring to participate in one, you usually do not run for a time, but instead to say you completed 50 miles (for example).\n",
    "What is unusual about this study then? Ultramarathons are even worse for your body than a marathon. Most who particpate do not run until their late 20's or even their 30's, as you want to fully develop your body before stressing it out this much."
   ]
  },
  {
   "cell_type": "markdown",
   "id": "ad5411b7",
   "metadata": {},
   "source": [
    "We start by initializing our libraries and uploading our ultramarathon study."
   ]
  },
  {
   "cell_type": "code",
   "execution_count": 1,
   "id": "dd0c2b11",
   "metadata": {},
   "outputs": [
    {
     "data": {
      "text/html": [
       "<div class=\"bk-root\">\n",
       "        <a href=\"https://bokeh.org\" target=\"_blank\" class=\"bk-logo bk-logo-small bk-logo-notebook\"></a>\n",
       "        <span id=\"1002\">Loading BokehJS ...</span>\n",
       "    </div>\n"
      ]
     },
     "metadata": {},
     "output_type": "display_data"
    },
    {
     "data": {
      "application/javascript": [
       "(function(root) {\n",
       "  function now() {\n",
       "    return new Date();\n",
       "  }\n",
       "\n",
       "  const force = true;\n",
       "\n",
       "  if (typeof root._bokeh_onload_callbacks === \"undefined\" || force === true) {\n",
       "    root._bokeh_onload_callbacks = [];\n",
       "    root._bokeh_is_loading = undefined;\n",
       "  }\n",
       "\n",
       "const JS_MIME_TYPE = 'application/javascript';\n",
       "  const HTML_MIME_TYPE = 'text/html';\n",
       "  const EXEC_MIME_TYPE = 'application/vnd.bokehjs_exec.v0+json';\n",
       "  const CLASS_NAME = 'output_bokeh rendered_html';\n",
       "\n",
       "  /**\n",
       "   * Render data to the DOM node\n",
       "   */\n",
       "  function render(props, node) {\n",
       "    const script = document.createElement(\"script\");\n",
       "    node.appendChild(script);\n",
       "  }\n",
       "\n",
       "  /**\n",
       "   * Handle when an output is cleared or removed\n",
       "   */\n",
       "  function handleClearOutput(event, handle) {\n",
       "    const cell = handle.cell;\n",
       "\n",
       "    const id = cell.output_area._bokeh_element_id;\n",
       "    const server_id = cell.output_area._bokeh_server_id;\n",
       "    // Clean up Bokeh references\n",
       "    if (id != null && id in Bokeh.index) {\n",
       "      Bokeh.index[id].model.document.clear();\n",
       "      delete Bokeh.index[id];\n",
       "    }\n",
       "\n",
       "    if (server_id !== undefined) {\n",
       "      // Clean up Bokeh references\n",
       "      const cmd_clean = \"from bokeh.io.state import curstate; print(curstate().uuid_to_server['\" + server_id + \"'].get_sessions()[0].document.roots[0]._id)\";\n",
       "      cell.notebook.kernel.execute(cmd_clean, {\n",
       "        iopub: {\n",
       "          output: function(msg) {\n",
       "            const id = msg.content.text.trim();\n",
       "            if (id in Bokeh.index) {\n",
       "              Bokeh.index[id].model.document.clear();\n",
       "              delete Bokeh.index[id];\n",
       "            }\n",
       "          }\n",
       "        }\n",
       "      });\n",
       "      // Destroy server and session\n",
       "      const cmd_destroy = \"import bokeh.io.notebook as ion; ion.destroy_server('\" + server_id + \"')\";\n",
       "      cell.notebook.kernel.execute(cmd_destroy);\n",
       "    }\n",
       "  }\n",
       "\n",
       "  /**\n",
       "   * Handle when a new output is added\n",
       "   */\n",
       "  function handleAddOutput(event, handle) {\n",
       "    const output_area = handle.output_area;\n",
       "    const output = handle.output;\n",
       "\n",
       "    // limit handleAddOutput to display_data with EXEC_MIME_TYPE content only\n",
       "    if ((output.output_type != \"display_data\") || (!Object.prototype.hasOwnProperty.call(output.data, EXEC_MIME_TYPE))) {\n",
       "      return\n",
       "    }\n",
       "\n",
       "    const toinsert = output_area.element.find(\".\" + CLASS_NAME.split(' ')[0]);\n",
       "\n",
       "    if (output.metadata[EXEC_MIME_TYPE][\"id\"] !== undefined) {\n",
       "      toinsert[toinsert.length - 1].firstChild.textContent = output.data[JS_MIME_TYPE];\n",
       "      // store reference to embed id on output_area\n",
       "      output_area._bokeh_element_id = output.metadata[EXEC_MIME_TYPE][\"id\"];\n",
       "    }\n",
       "    if (output.metadata[EXEC_MIME_TYPE][\"server_id\"] !== undefined) {\n",
       "      const bk_div = document.createElement(\"div\");\n",
       "      bk_div.innerHTML = output.data[HTML_MIME_TYPE];\n",
       "      const script_attrs = bk_div.children[0].attributes;\n",
       "      for (let i = 0; i < script_attrs.length; i++) {\n",
       "        toinsert[toinsert.length - 1].firstChild.setAttribute(script_attrs[i].name, script_attrs[i].value);\n",
       "        toinsert[toinsert.length - 1].firstChild.textContent = bk_div.children[0].textContent\n",
       "      }\n",
       "      // store reference to server id on output_area\n",
       "      output_area._bokeh_server_id = output.metadata[EXEC_MIME_TYPE][\"server_id\"];\n",
       "    }\n",
       "  }\n",
       "\n",
       "  function register_renderer(events, OutputArea) {\n",
       "\n",
       "    function append_mime(data, metadata, element) {\n",
       "      // create a DOM node to render to\n",
       "      const toinsert = this.create_output_subarea(\n",
       "        metadata,\n",
       "        CLASS_NAME,\n",
       "        EXEC_MIME_TYPE\n",
       "      );\n",
       "      this.keyboard_manager.register_events(toinsert);\n",
       "      // Render to node\n",
       "      const props = {data: data, metadata: metadata[EXEC_MIME_TYPE]};\n",
       "      render(props, toinsert[toinsert.length - 1]);\n",
       "      element.append(toinsert);\n",
       "      return toinsert\n",
       "    }\n",
       "\n",
       "    /* Handle when an output is cleared or removed */\n",
       "    events.on('clear_output.CodeCell', handleClearOutput);\n",
       "    events.on('delete.Cell', handleClearOutput);\n",
       "\n",
       "    /* Handle when a new output is added */\n",
       "    events.on('output_added.OutputArea', handleAddOutput);\n",
       "\n",
       "    /**\n",
       "     * Register the mime type and append_mime function with output_area\n",
       "     */\n",
       "    OutputArea.prototype.register_mime_type(EXEC_MIME_TYPE, append_mime, {\n",
       "      /* Is output safe? */\n",
       "      safe: true,\n",
       "      /* Index of renderer in `output_area.display_order` */\n",
       "      index: 0\n",
       "    });\n",
       "  }\n",
       "\n",
       "  // register the mime type if in Jupyter Notebook environment and previously unregistered\n",
       "  if (root.Jupyter !== undefined) {\n",
       "    const events = require('base/js/events');\n",
       "    const OutputArea = require('notebook/js/outputarea').OutputArea;\n",
       "\n",
       "    if (OutputArea.prototype.mime_types().indexOf(EXEC_MIME_TYPE) == -1) {\n",
       "      register_renderer(events, OutputArea);\n",
       "    }\n",
       "  }\n",
       "  if (typeof (root._bokeh_timeout) === \"undefined\" || force === true) {\n",
       "    root._bokeh_timeout = Date.now() + 5000;\n",
       "    root._bokeh_failed_load = false;\n",
       "  }\n",
       "\n",
       "  const NB_LOAD_WARNING = {'data': {'text/html':\n",
       "     \"<div style='background-color: #fdd'>\\n\"+\n",
       "     \"<p>\\n\"+\n",
       "     \"BokehJS does not appear to have successfully loaded. If loading BokehJS from CDN, this \\n\"+\n",
       "     \"may be due to a slow or bad network connection. Possible fixes:\\n\"+\n",
       "     \"</p>\\n\"+\n",
       "     \"<ul>\\n\"+\n",
       "     \"<li>re-rerun `output_notebook()` to attempt to load from CDN again, or</li>\\n\"+\n",
       "     \"<li>use INLINE resources instead, as so:</li>\\n\"+\n",
       "     \"</ul>\\n\"+\n",
       "     \"<code>\\n\"+\n",
       "     \"from bokeh.resources import INLINE\\n\"+\n",
       "     \"output_notebook(resources=INLINE)\\n\"+\n",
       "     \"</code>\\n\"+\n",
       "     \"</div>\"}};\n",
       "\n",
       "  function display_loaded() {\n",
       "    const el = document.getElementById(\"1002\");\n",
       "    if (el != null) {\n",
       "      el.textContent = \"BokehJS is loading...\";\n",
       "    }\n",
       "    if (root.Bokeh !== undefined) {\n",
       "      if (el != null) {\n",
       "        el.textContent = \"BokehJS \" + root.Bokeh.version + \" successfully loaded.\";\n",
       "      }\n",
       "    } else if (Date.now() < root._bokeh_timeout) {\n",
       "      setTimeout(display_loaded, 100)\n",
       "    }\n",
       "  }\n",
       "\n",
       "  function run_callbacks() {\n",
       "    try {\n",
       "      root._bokeh_onload_callbacks.forEach(function(callback) {\n",
       "        if (callback != null)\n",
       "          callback();\n",
       "      });\n",
       "    } finally {\n",
       "      delete root._bokeh_onload_callbacks\n",
       "    }\n",
       "    console.debug(\"Bokeh: all callbacks have finished\");\n",
       "  }\n",
       "\n",
       "  function load_libs(css_urls, js_urls, callback) {\n",
       "    if (css_urls == null) css_urls = [];\n",
       "    if (js_urls == null) js_urls = [];\n",
       "\n",
       "    root._bokeh_onload_callbacks.push(callback);\n",
       "    if (root._bokeh_is_loading > 0) {\n",
       "      console.debug(\"Bokeh: BokehJS is being loaded, scheduling callback at\", now());\n",
       "      return null;\n",
       "    }\n",
       "    if (js_urls == null || js_urls.length === 0) {\n",
       "      run_callbacks();\n",
       "      return null;\n",
       "    }\n",
       "    console.debug(\"Bokeh: BokehJS not loaded, scheduling load and callback at\", now());\n",
       "    root._bokeh_is_loading = css_urls.length + js_urls.length;\n",
       "\n",
       "    function on_load() {\n",
       "      root._bokeh_is_loading--;\n",
       "      if (root._bokeh_is_loading === 0) {\n",
       "        console.debug(\"Bokeh: all BokehJS libraries/stylesheets loaded\");\n",
       "        run_callbacks()\n",
       "      }\n",
       "    }\n",
       "\n",
       "    function on_error(url) {\n",
       "      console.error(\"failed to load \" + url);\n",
       "    }\n",
       "\n",
       "    for (let i = 0; i < css_urls.length; i++) {\n",
       "      const url = css_urls[i];\n",
       "      const element = document.createElement(\"link\");\n",
       "      element.onload = on_load;\n",
       "      element.onerror = on_error.bind(null, url);\n",
       "      element.rel = \"stylesheet\";\n",
       "      element.type = \"text/css\";\n",
       "      element.href = url;\n",
       "      console.debug(\"Bokeh: injecting link tag for BokehJS stylesheet: \", url);\n",
       "      document.body.appendChild(element);\n",
       "    }\n",
       "\n",
       "    for (let i = 0; i < js_urls.length; i++) {\n",
       "      const url = js_urls[i];\n",
       "      const element = document.createElement('script');\n",
       "      element.onload = on_load;\n",
       "      element.onerror = on_error.bind(null, url);\n",
       "      element.async = false;\n",
       "      element.src = url;\n",
       "      console.debug(\"Bokeh: injecting script tag for BokehJS library: \", url);\n",
       "      document.head.appendChild(element);\n",
       "    }\n",
       "  };\n",
       "\n",
       "  function inject_raw_css(css) {\n",
       "    const element = document.createElement(\"style\");\n",
       "    element.appendChild(document.createTextNode(css));\n",
       "    document.body.appendChild(element);\n",
       "  }\n",
       "\n",
       "  const js_urls = [\"https://cdn.bokeh.org/bokeh/release/bokeh-2.4.3.min.js\", \"https://cdn.bokeh.org/bokeh/release/bokeh-gl-2.4.3.min.js\", \"https://cdn.bokeh.org/bokeh/release/bokeh-widgets-2.4.3.min.js\", \"https://cdn.bokeh.org/bokeh/release/bokeh-tables-2.4.3.min.js\", \"https://cdn.bokeh.org/bokeh/release/bokeh-mathjax-2.4.3.min.js\"];\n",
       "  const css_urls = [];\n",
       "\n",
       "  const inline_js = [    function(Bokeh) {\n",
       "      Bokeh.set_log_level(\"info\");\n",
       "    },\n",
       "function(Bokeh) {\n",
       "    }\n",
       "  ];\n",
       "\n",
       "  function run_inline_js() {\n",
       "    if (root.Bokeh !== undefined || force === true) {\n",
       "          for (let i = 0; i < inline_js.length; i++) {\n",
       "      inline_js[i].call(root, root.Bokeh);\n",
       "    }\n",
       "if (force === true) {\n",
       "        display_loaded();\n",
       "      }} else if (Date.now() < root._bokeh_timeout) {\n",
       "      setTimeout(run_inline_js, 100);\n",
       "    } else if (!root._bokeh_failed_load) {\n",
       "      console.log(\"Bokeh: BokehJS failed to load within specified timeout.\");\n",
       "      root._bokeh_failed_load = true;\n",
       "    } else if (force !== true) {\n",
       "      const cell = $(document.getElementById(\"1002\")).parents('.cell').data().cell;\n",
       "      cell.output_area.append_execute_result(NB_LOAD_WARNING)\n",
       "    }\n",
       "  }\n",
       "\n",
       "  if (root._bokeh_is_loading === 0) {\n",
       "    console.debug(\"Bokeh: BokehJS loaded, going straight to plotting\");\n",
       "    run_inline_js();\n",
       "  } else {\n",
       "    load_libs(css_urls, js_urls, function() {\n",
       "      console.debug(\"Bokeh: BokehJS plotting callback run at\", now());\n",
       "      run_inline_js();\n",
       "    });\n",
       "  }\n",
       "}(window));"
      ],
      "application/vnd.bokehjs_load.v0+json": "(function(root) {\n  function now() {\n    return new Date();\n  }\n\n  const force = true;\n\n  if (typeof root._bokeh_onload_callbacks === \"undefined\" || force === true) {\n    root._bokeh_onload_callbacks = [];\n    root._bokeh_is_loading = undefined;\n  }\n\n\n  if (typeof (root._bokeh_timeout) === \"undefined\" || force === true) {\n    root._bokeh_timeout = Date.now() + 5000;\n    root._bokeh_failed_load = false;\n  }\n\n  const NB_LOAD_WARNING = {'data': {'text/html':\n     \"<div style='background-color: #fdd'>\\n\"+\n     \"<p>\\n\"+\n     \"BokehJS does not appear to have successfully loaded. If loading BokehJS from CDN, this \\n\"+\n     \"may be due to a slow or bad network connection. Possible fixes:\\n\"+\n     \"</p>\\n\"+\n     \"<ul>\\n\"+\n     \"<li>re-rerun `output_notebook()` to attempt to load from CDN again, or</li>\\n\"+\n     \"<li>use INLINE resources instead, as so:</li>\\n\"+\n     \"</ul>\\n\"+\n     \"<code>\\n\"+\n     \"from bokeh.resources import INLINE\\n\"+\n     \"output_notebook(resources=INLINE)\\n\"+\n     \"</code>\\n\"+\n     \"</div>\"}};\n\n  function display_loaded() {\n    const el = document.getElementById(\"1002\");\n    if (el != null) {\n      el.textContent = \"BokehJS is loading...\";\n    }\n    if (root.Bokeh !== undefined) {\n      if (el != null) {\n        el.textContent = \"BokehJS \" + root.Bokeh.version + \" successfully loaded.\";\n      }\n    } else if (Date.now() < root._bokeh_timeout) {\n      setTimeout(display_loaded, 100)\n    }\n  }\n\n  function run_callbacks() {\n    try {\n      root._bokeh_onload_callbacks.forEach(function(callback) {\n        if (callback != null)\n          callback();\n      });\n    } finally {\n      delete root._bokeh_onload_callbacks\n    }\n    console.debug(\"Bokeh: all callbacks have finished\");\n  }\n\n  function load_libs(css_urls, js_urls, callback) {\n    if (css_urls == null) css_urls = [];\n    if (js_urls == null) js_urls = [];\n\n    root._bokeh_onload_callbacks.push(callback);\n    if (root._bokeh_is_loading > 0) {\n      console.debug(\"Bokeh: BokehJS is being loaded, scheduling callback at\", now());\n      return null;\n    }\n    if (js_urls == null || js_urls.length === 0) {\n      run_callbacks();\n      return null;\n    }\n    console.debug(\"Bokeh: BokehJS not loaded, scheduling load and callback at\", now());\n    root._bokeh_is_loading = css_urls.length + js_urls.length;\n\n    function on_load() {\n      root._bokeh_is_loading--;\n      if (root._bokeh_is_loading === 0) {\n        console.debug(\"Bokeh: all BokehJS libraries/stylesheets loaded\");\n        run_callbacks()\n      }\n    }\n\n    function on_error(url) {\n      console.error(\"failed to load \" + url);\n    }\n\n    for (let i = 0; i < css_urls.length; i++) {\n      const url = css_urls[i];\n      const element = document.createElement(\"link\");\n      element.onload = on_load;\n      element.onerror = on_error.bind(null, url);\n      element.rel = \"stylesheet\";\n      element.type = \"text/css\";\n      element.href = url;\n      console.debug(\"Bokeh: injecting link tag for BokehJS stylesheet: \", url);\n      document.body.appendChild(element);\n    }\n\n    for (let i = 0; i < js_urls.length; i++) {\n      const url = js_urls[i];\n      const element = document.createElement('script');\n      element.onload = on_load;\n      element.onerror = on_error.bind(null, url);\n      element.async = false;\n      element.src = url;\n      console.debug(\"Bokeh: injecting script tag for BokehJS library: \", url);\n      document.head.appendChild(element);\n    }\n  };\n\n  function inject_raw_css(css) {\n    const element = document.createElement(\"style\");\n    element.appendChild(document.createTextNode(css));\n    document.body.appendChild(element);\n  }\n\n  const js_urls = [\"https://cdn.bokeh.org/bokeh/release/bokeh-2.4.3.min.js\", \"https://cdn.bokeh.org/bokeh/release/bokeh-gl-2.4.3.min.js\", \"https://cdn.bokeh.org/bokeh/release/bokeh-widgets-2.4.3.min.js\", \"https://cdn.bokeh.org/bokeh/release/bokeh-tables-2.4.3.min.js\", \"https://cdn.bokeh.org/bokeh/release/bokeh-mathjax-2.4.3.min.js\"];\n  const css_urls = [];\n\n  const inline_js = [    function(Bokeh) {\n      Bokeh.set_log_level(\"info\");\n    },\nfunction(Bokeh) {\n    }\n  ];\n\n  function run_inline_js() {\n    if (root.Bokeh !== undefined || force === true) {\n          for (let i = 0; i < inline_js.length; i++) {\n      inline_js[i].call(root, root.Bokeh);\n    }\nif (force === true) {\n        display_loaded();\n      }} else if (Date.now() < root._bokeh_timeout) {\n      setTimeout(run_inline_js, 100);\n    } else if (!root._bokeh_failed_load) {\n      console.log(\"Bokeh: BokehJS failed to load within specified timeout.\");\n      root._bokeh_failed_load = true;\n    } else if (force !== true) {\n      const cell = $(document.getElementById(\"1002\")).parents('.cell').data().cell;\n      cell.output_area.append_execute_result(NB_LOAD_WARNING)\n    }\n  }\n\n  if (root._bokeh_is_loading === 0) {\n    console.debug(\"Bokeh: BokehJS loaded, going straight to plotting\");\n    run_inline_js();\n  } else {\n    load_libs(css_urls, js_urls, function() {\n      console.debug(\"Bokeh: BokehJS plotting callback run at\", now());\n      run_inline_js();\n    });\n  }\n}(window));"
     },
     "metadata": {},
     "output_type": "display_data"
    }
   ],
   "source": [
    "import numpy as np\n",
    "from bokeh.plotting import figure\n",
    "from bokeh.io import show, output_notebook\n",
    "from bokeh.layouts import gridplot\n",
    "output_notebook()\n",
    "\n",
    "import pandas as pd\n",
    "ultramarathon = pd.read_csv('Childhood Ultramarathon Runner Study v0.92.csv')"
   ]
  },
  {
   "cell_type": "markdown",
   "id": "67ac3877",
   "metadata": {},
   "source": [
    "Similarly to our linear regression lab, we will define our plot here to save time later."
   ]
  },
  {
   "cell_type": "code",
   "execution_count": 2,
   "id": "66cf9769",
   "metadata": {},
   "outputs": [],
   "source": [
    "def comparison_plot(x,Y, Yhat):\n",
    "    '''Plots Predicted vs True values for analysis of regression'''\n",
    "    comparison_plot = figure(title='Difference between Measured and Predicted Values')\n",
    "    comparison_plot.xaxis.axis_label='x'\n",
    "    comparison_plot.yaxis.axis_label='Yhat-Y'\n",
    "    comparison_plot.scatter(x=x,y=Yhat-Y)\n",
    "    comparison_plot.line(x=[x.min(),x.max()],y=[0,0])\n",
    "    return comparison_plot"
   ]
  },
  {
   "cell_type": "markdown",
   "id": "9243ae00",
   "metadata": {},
   "source": [
    "### Quanity of Ultramarathons "
   ]
  },
  {
   "cell_type": "markdown",
   "id": "91478e67",
   "metadata": {},
   "source": [
    "We will first consider the quantity of ultramarathons ran before the age of 19. We would like to see if running more Ultramarathons is predicative of specific life outcomes. We will be looking at the linear regression case."
   ]
  },
  {
   "cell_type": "markdown",
   "id": "145dbfd3",
   "metadata": {},
   "source": [
    "In the data there are runners who ran as many as 30 ultramarathons before the age of 19. We will begin by creating a scatter plot of data where the x-axis is quantity of ultramarathons. We load the data such that we can consider there plots."
   ]
  },
  {
   "cell_type": "code",
   "execution_count": 3,
   "id": "ebf2a259",
   "metadata": {},
   "outputs": [],
   "source": [
    "# accessing specific columns for our scatter plot\n",
    "x = ultramarathon[\"NBR_UM_BEFORE_19\"]\n",
    "km_week = ultramarathon[\"RUN_DISTANCE_PW_LAST_12_MONTHS\"]\n",
    "work_hrs = ultramarathon[\"AVG_WORK_HOURS_PW_LAST_12_MONTHS\"]\n",
    "drink_day_pw = ultramarathon[\"DRINK_DAYS_PW_LAST_12_MONTHS\"]"
   ]
  },
  {
   "cell_type": "markdown",
   "id": "c0b0b50c",
   "metadata": {},
   "source": [
    "We now create our scatter plots to get a better image of our data."
   ]
  },
  {
   "cell_type": "code",
   "execution_count": 4,
   "id": "23dff7c2",
   "metadata": {},
   "outputs": [
    {
     "data": {
      "text/html": [
       "\n",
       "  <div class=\"bk-root\" id=\"8dbd0eb1-b01a-4b27-8742-954405615729\" data-root-id=\"1003\"></div>\n"
      ]
     },
     "metadata": {},
     "output_type": "display_data"
    },
    {
     "data": {
      "application/javascript": [
       "(function(root) {\n",
       "  function embed_document(root) {\n",
       "  const docs_json = {\"c8024082-316c-4886-97a7-fe729a2c1710\":{\"defs\":[],\"roots\":{\"references\":[{\"attributes\":{\"below\":[{\"id\":\"1014\"}],\"center\":[{\"id\":\"1017\"},{\"id\":\"1021\"}],\"height\":400,\"left\":[{\"id\":\"1018\"}],\"renderers\":[{\"id\":\"1040\"}],\"title\":{\"id\":\"1004\"},\"toolbar\":{\"id\":\"1029\"},\"width\":400,\"x_range\":{\"id\":\"1006\"},\"x_scale\":{\"id\":\"1010\"},\"y_range\":{\"id\":\"1008\"},\"y_scale\":{\"id\":\"1012\"}},\"id\":\"1003\",\"subtype\":\"Figure\",\"type\":\"Plot\"},{\"attributes\":{},\"id\":\"1008\",\"type\":\"DataRange1d\"},{\"attributes\":{\"bottom_units\":\"screen\",\"coordinates\":null,\"fill_alpha\":0.5,\"fill_color\":\"lightgrey\",\"group\":null,\"left_units\":\"screen\",\"level\":\"overlay\",\"line_alpha\":1.0,\"line_color\":\"black\",\"line_dash\":[4,4],\"line_width\":2,\"right_units\":\"screen\",\"syncable\":false,\"top_units\":\"screen\"},\"id\":\"1028\",\"type\":\"BoxAnnotation\"},{\"attributes\":{},\"id\":\"1122\",\"type\":\"BasicTickFormatter\"},{\"attributes\":{},\"id\":\"1026\",\"type\":\"ResetTool\"},{\"attributes\":{},\"id\":\"1025\",\"type\":\"SaveTool\"},{\"attributes\":{\"overlay\":{\"id\":\"1028\"}},\"id\":\"1024\",\"type\":\"BoxZoomTool\"},{\"attributes\":{},\"id\":\"1022\",\"type\":\"PanTool\"},{\"attributes\":{},\"id\":\"1023\",\"type\":\"WheelZoomTool\"},{\"attributes\":{},\"id\":\"1123\",\"type\":\"AllLabels\"},{\"attributes\":{\"axis_label\":\"Weekly Mileage (km)\",\"coordinates\":null,\"formatter\":{\"id\":\"1122\"},\"group\":null,\"major_label_policy\":{\"id\":\"1123\"},\"ticker\":{\"id\":\"1019\"}},\"id\":\"1018\",\"type\":\"LinearAxis\"},{\"attributes\":{},\"id\":\"1015\",\"type\":\"BasicTicker\"},{\"attributes\":{},\"id\":\"1125\",\"type\":\"BasicTickFormatter\"},{\"attributes\":{\"axis\":{\"id\":\"1014\"},\"coordinates\":null,\"group\":null,\"ticker\":null},\"id\":\"1017\",\"type\":\"Grid\"},{\"attributes\":{},\"id\":\"1019\",\"type\":\"BasicTicker\"},{\"attributes\":{\"axis\":{\"id\":\"1018\"},\"coordinates\":null,\"dimension\":1,\"group\":null,\"ticker\":null},\"id\":\"1021\",\"type\":\"Grid\"},{\"attributes\":{},\"id\":\"1027\",\"type\":\"HelpTool\"},{\"attributes\":{\"source\":{\"id\":\"1036\"}},\"id\":\"1041\",\"type\":\"CDSView\"},{\"attributes\":{\"axis_label\":\"Ultramarathons Ran\",\"coordinates\":null,\"formatter\":{\"id\":\"1125\"},\"group\":null,\"major_label_policy\":{\"id\":\"1126\"},\"ticker\":{\"id\":\"1015\"}},\"id\":\"1014\",\"type\":\"LinearAxis\"},{\"attributes\":{},\"id\":\"1126\",\"type\":\"AllLabels\"},{\"attributes\":{\"fill_alpha\":{\"value\":0.1},\"fill_color\":{\"value\":\"#1f77b4\"},\"hatch_alpha\":{\"value\":0.1},\"line_alpha\":{\"value\":0.1},\"line_color\":{\"value\":\"#1f77b4\"},\"x\":{\"field\":\"x\"},\"y\":{\"field\":\"y\"}},\"id\":\"1038\",\"type\":\"Scatter\"},{\"attributes\":{},\"id\":\"1012\",\"type\":\"LinearScale\"},{\"attributes\":{\"data\":{\"x\":[23,8,3,6,1,2,1,2,1,1,3,2,4,1,9,1,1,5,1,2,3,2,2,8,1,1,1,1,1,1,1,1,2,1,2,1,2,1,17,8,1,30,20,5,7,3,7,11,4,1,1,1,20,1,1,1,1,3,1,1,1,1,2,1,1,9,5,1,1,2,1,3,2,1,4,1,1,1],\"y\":{\"__ndarray__\":\"AAAAAAAAVEAAAAAAAIBRQAAAAAAAAAAAAAAAAAAAVEAAAAAAAABUQAAAAAAAADBAAAAAAAAASEAAAAAAAABJQAAAAAAAgFZAAAAAAAAATkAzMzMzMzMzQDMzMzMzMzNAAAAAAAAAAAAAAAAAAABOQAAAAAAAAFRAAAAAAAAAUkAAAAAAAAAAAAAAAAAAAExAAAAAAAAAMEAzMzMzMzMTQDMzMzMzMzNAAAAAAAAAAAAAAAAAAAAAAAAAAAAAAAAAAAAAAAAAMEAAAAAAAABAQAAAAAAAAExAAAAAAAAAAAAAAAAAAAAAAAAAAAAAAAAAAAAAAAAAAACamZmZmZkZQAAAAAAAADhAAAAAAAAAAAAAAAAAAABQQAAAAAAAAAAAAAAAAAAAYUAAAAAAAAAwQAAAAAAAAGFAAAAAAAAAXkAAAAAAAABAQAAAAAAAAGJAmpmZmZmZKUAAAAAAAAAAAAAAAAAAAAAAAAAAAAAASEAAAAAAAAAAAM3MzMzMzDxAZmZmZmZmJkAAAAAAAAAAAAAAAAAAAAAAAAAAAAAAQEAAAAAAAABEQAAAAAAAAAAAAAAAAAAAAAAAAAAAAAAgQAAAAAAAAAAAAAAAAAAAVEAAAAAAAAAAAAAAAAAAAAAAAAAAAAAAAAAAAAAAAAAAAAAAAAAAAEhAAAAAAAAAAAAAAAAAAAAAAAAAAAAAAExAAAAAAAAAOEAAAAAAAABEQAAAAAAAAAAAAAAAAAAAAACamZmZmZkpQAAAAAAAAEhAAAAAAAAASEAAAAAAAAAgQJqZmZmZmTFAAAAAAAAAAAAAAAAAAAAAAAAAAAAAAFRA\",\"dtype\":\"float64\",\"order\":\"little\",\"shape\":[78]}},\"selected\":{\"id\":\"1128\"},\"selection_policy\":{\"id\":\"1127\"}},\"id\":\"1036\",\"type\":\"ColumnDataSource\"},{\"attributes\":{},\"id\":\"1010\",\"type\":\"LinearScale\"},{\"attributes\":{\"fill_alpha\":{\"value\":0.2},\"fill_color\":{\"value\":\"#1f77b4\"},\"hatch_alpha\":{\"value\":0.2},\"line_alpha\":{\"value\":0.2},\"line_color\":{\"value\":\"#1f77b4\"},\"x\":{\"field\":\"x\"},\"y\":{\"field\":\"y\"}},\"id\":\"1039\",\"type\":\"Scatter\"},{\"attributes\":{\"coordinates\":null,\"group\":null,\"text\":\"Ultramarathons Ran vs. Current Weekly Mileage\"},\"id\":\"1004\",\"type\":\"Title\"},{\"attributes\":{},\"id\":\"1006\",\"type\":\"DataRange1d\"},{\"attributes\":{},\"id\":\"1127\",\"type\":\"UnionRenderers\"},{\"attributes\":{\"coordinates\":null,\"data_source\":{\"id\":\"1036\"},\"glyph\":{\"id\":\"1037\"},\"group\":null,\"hover_glyph\":null,\"muted_glyph\":{\"id\":\"1039\"},\"nonselection_glyph\":{\"id\":\"1038\"},\"view\":{\"id\":\"1041\"}},\"id\":\"1040\",\"type\":\"GlyphRenderer\"},{\"attributes\":{\"fill_color\":{\"value\":\"#1f77b4\"},\"line_color\":{\"value\":\"#1f77b4\"},\"x\":{\"field\":\"x\"},\"y\":{\"field\":\"y\"}},\"id\":\"1037\",\"type\":\"Scatter\"},{\"attributes\":{\"tools\":[{\"id\":\"1022\"},{\"id\":\"1023\"},{\"id\":\"1024\"},{\"id\":\"1025\"},{\"id\":\"1026\"},{\"id\":\"1027\"}]},\"id\":\"1029\",\"type\":\"Toolbar\"},{\"attributes\":{},\"id\":\"1128\",\"type\":\"Selection\"}],\"root_ids\":[\"1003\"]},\"title\":\"Bokeh Application\",\"version\":\"2.4.3\"}};\n",
       "  const render_items = [{\"docid\":\"c8024082-316c-4886-97a7-fe729a2c1710\",\"root_ids\":[\"1003\"],\"roots\":{\"1003\":\"8dbd0eb1-b01a-4b27-8742-954405615729\"}}];\n",
       "  root.Bokeh.embed.embed_items_notebook(docs_json, render_items);\n",
       "  }\n",
       "  if (root.Bokeh !== undefined) {\n",
       "    embed_document(root);\n",
       "  } else {\n",
       "    let attempts = 0;\n",
       "    const timer = setInterval(function(root) {\n",
       "      if (root.Bokeh !== undefined) {\n",
       "        clearInterval(timer);\n",
       "        embed_document(root);\n",
       "      } else {\n",
       "        attempts++;\n",
       "        if (attempts > 100) {\n",
       "          clearInterval(timer);\n",
       "          console.log(\"Bokeh: ERROR: Unable to run BokehJS code because BokehJS library is missing\");\n",
       "        }\n",
       "      }\n",
       "    }, 10, root)\n",
       "  }\n",
       "})(window);"
      ],
      "application/vnd.bokehjs_exec.v0+json": ""
     },
     "metadata": {
      "application/vnd.bokehjs_exec.v0+json": {
       "id": "1003"
      }
     },
     "output_type": "display_data"
    },
    {
     "data": {
      "text/html": [
       "\n",
       "  <div class=\"bk-root\" id=\"94421ba4-ef22-473c-8eb0-4da851e69b47\" data-root-id=\"1042\"></div>\n"
      ]
     },
     "metadata": {},
     "output_type": "display_data"
    },
    {
     "data": {
      "application/javascript": [
       "(function(root) {\n",
       "  function embed_document(root) {\n",
       "  const docs_json = {\"1dbc0c86-6853-43df-bf1b-27f0c1b4c032\":{\"defs\":[],\"roots\":{\"references\":[{\"attributes\":{\"below\":[{\"id\":\"1053\"}],\"center\":[{\"id\":\"1056\"},{\"id\":\"1060\"}],\"height\":400,\"left\":[{\"id\":\"1057\"}],\"renderers\":[{\"id\":\"1079\"}],\"title\":{\"id\":\"1043\"},\"toolbar\":{\"id\":\"1068\"},\"width\":400,\"x_range\":{\"id\":\"1045\"},\"x_scale\":{\"id\":\"1049\"},\"y_range\":{\"id\":\"1047\"},\"y_scale\":{\"id\":\"1051\"}},\"id\":\"1042\",\"subtype\":\"Figure\",\"type\":\"Plot\"},{\"attributes\":{\"data\":{\"x\":[23,8,3,6,1,2,1,2,1,1,3,2,4,1,9,1,1,5,1,2,3,2,2,8,1,1,1,1,1,1,1,1,2,1,2,1,2,1,17,8,1,30,20,5,7,3,7,11,4,1,1,1,20,1,1,1,1,3,1,1,1,1,2,1,1,9,5,1,1,2,1,3,2,1,4,1,1,1],\"y\":{\"__ndarray__\":\"AAAAAACARkAAAAAAAAAYQAAAAAAAgFFAAAAAAAAA+H8AAAAAAABEQAAAAAAAAPh/AAAAAAAAREAAAAAAAAD4fwAAAAAAAPh/AAAAAAAAREAAAAAAAABEQAAAAAAAAEVAAAAAAAAA+H8AAAAAAAD4fwAAAAAAgEZAAAAAAAAAREAAAAAAAABJQAAAAAAAAERAAAAAAAAATkAAAAAAAIBRQAAAAAAAgEtAAAAAAAAAREAAAAAAAAD4fwAAAAAAgEFAAAAAAABAUEAAAAAAAABIQAAAAAAAAElAAAAAAACARkAAAAAAAAD4fwAAAAAAAPh/AAAAAAAAREAAAAAAAABEQAAAAAAAAERAAAAAAACARkAAAAAAAABOQAAAAAAAgEhAAAAAAAAAREAAAAAAAAD4fwAAAAAAAEhAAAAAAAAAREAAAAAAAAD4fwAAAAAAAERAAAAAAAAAREAAAAAAAABOQAAAAAAAgEZAAAAAAAAA+H8AAAAAAABIQAAAAAAAAElAAAAAAAAASUAAAAAAAABEQAAAAAAAAERAAAAAAACAS0AAAAAAAIBRQAAAAAAAAPh/AAAAAAAASUAAAAAAAAA+QAAAAAAAAERAAAAAAAAAPkAAAAAAAIBGQAAAAAAAAPh/AAAAAACARkAAAAAAAABEQAAAAAAAAPh/AAAAAACARkAAAAAAAIBGQAAAAAAAAPh/AAAAAACAUUAAAAAAAAD4fwAAAAAAAERAAAAAAAAATkAAAAAAAABOQAAAAAAAgEFAAAAAAAAARUAAAAAAAABEQAAAAAAAADlAAAAAAAAAKEAAAAAAAAD4fwAAAAAAAERA\",\"dtype\":\"float64\",\"order\":\"little\",\"shape\":[78]}},\"selected\":{\"id\":\"1198\"},\"selection_policy\":{\"id\":\"1197\"}},\"id\":\"1075\",\"type\":\"ColumnDataSource\"},{\"attributes\":{\"coordinates\":null,\"data_source\":{\"id\":\"1075\"},\"glyph\":{\"id\":\"1076\"},\"group\":null,\"hover_glyph\":null,\"muted_glyph\":{\"id\":\"1078\"},\"nonselection_glyph\":{\"id\":\"1077\"},\"view\":{\"id\":\"1080\"}},\"id\":\"1079\",\"type\":\"GlyphRenderer\"},{\"attributes\":{\"source\":{\"id\":\"1075\"}},\"id\":\"1080\",\"type\":\"CDSView\"},{\"attributes\":{\"tools\":[{\"id\":\"1061\"},{\"id\":\"1062\"},{\"id\":\"1063\"},{\"id\":\"1064\"},{\"id\":\"1065\"},{\"id\":\"1066\"}]},\"id\":\"1068\",\"type\":\"Toolbar\"},{\"attributes\":{\"fill_alpha\":{\"value\":0.2},\"fill_color\":{\"value\":\"#1f77b4\"},\"hatch_alpha\":{\"value\":0.2},\"line_alpha\":{\"value\":0.2},\"line_color\":{\"value\":\"#1f77b4\"},\"x\":{\"field\":\"x\"},\"y\":{\"field\":\"y\"}},\"id\":\"1078\",\"type\":\"Scatter\"},{\"attributes\":{},\"id\":\"1054\",\"type\":\"BasicTicker\"},{\"attributes\":{\"fill_alpha\":{\"value\":0.1},\"fill_color\":{\"value\":\"#1f77b4\"},\"hatch_alpha\":{\"value\":0.1},\"line_alpha\":{\"value\":0.1},\"line_color\":{\"value\":\"#1f77b4\"},\"x\":{\"field\":\"x\"},\"y\":{\"field\":\"y\"}},\"id\":\"1077\",\"type\":\"Scatter\"},{\"attributes\":{},\"id\":\"1045\",\"type\":\"DataRange1d\"},{\"attributes\":{\"axis\":{\"id\":\"1053\"},\"coordinates\":null,\"group\":null,\"ticker\":null},\"id\":\"1056\",\"type\":\"Grid\"},{\"attributes\":{},\"id\":\"1062\",\"type\":\"WheelZoomTool\"},{\"attributes\":{\"fill_color\":{\"value\":\"#1f77b4\"},\"line_color\":{\"value\":\"#1f77b4\"},\"x\":{\"field\":\"x\"},\"y\":{\"field\":\"y\"}},\"id\":\"1076\",\"type\":\"Scatter\"},{\"attributes\":{},\"id\":\"1197\",\"type\":\"UnionRenderers\"},{\"attributes\":{},\"id\":\"1051\",\"type\":\"LinearScale\"},{\"attributes\":{\"bottom_units\":\"screen\",\"coordinates\":null,\"fill_alpha\":0.5,\"fill_color\":\"lightgrey\",\"group\":null,\"left_units\":\"screen\",\"level\":\"overlay\",\"line_alpha\":1.0,\"line_color\":\"black\",\"line_dash\":[4,4],\"line_width\":2,\"right_units\":\"screen\",\"syncable\":false,\"top_units\":\"screen\"},\"id\":\"1067\",\"type\":\"BoxAnnotation\"},{\"attributes\":{},\"id\":\"1049\",\"type\":\"LinearScale\"},{\"attributes\":{\"axis\":{\"id\":\"1057\"},\"coordinates\":null,\"dimension\":1,\"group\":null,\"ticker\":null},\"id\":\"1060\",\"type\":\"Grid\"},{\"attributes\":{},\"id\":\"1066\",\"type\":\"HelpTool\"},{\"attributes\":{},\"id\":\"1065\",\"type\":\"ResetTool\"},{\"attributes\":{},\"id\":\"1192\",\"type\":\"BasicTickFormatter\"},{\"attributes\":{},\"id\":\"1196\",\"type\":\"AllLabels\"},{\"attributes\":{},\"id\":\"1195\",\"type\":\"BasicTickFormatter\"},{\"attributes\":{\"axis_label\":\"Ultramarathons Ran\",\"coordinates\":null,\"formatter\":{\"id\":\"1195\"},\"group\":null,\"major_label_policy\":{\"id\":\"1196\"},\"ticker\":{\"id\":\"1054\"}},\"id\":\"1053\",\"type\":\"LinearAxis\"},{\"attributes\":{\"axis_label\":\"Work Time per week (hrs)\",\"coordinates\":null,\"formatter\":{\"id\":\"1192\"},\"group\":null,\"major_label_policy\":{\"id\":\"1193\"},\"ticker\":{\"id\":\"1058\"}},\"id\":\"1057\",\"type\":\"LinearAxis\"},{\"attributes\":{\"coordinates\":null,\"group\":null,\"text\":\"Ultramrathons Ran vs. Average Work Hours Per Week\"},\"id\":\"1043\",\"type\":\"Title\"},{\"attributes\":{},\"id\":\"1061\",\"type\":\"PanTool\"},{\"attributes\":{},\"id\":\"1193\",\"type\":\"AllLabels\"},{\"attributes\":{},\"id\":\"1198\",\"type\":\"Selection\"},{\"attributes\":{},\"id\":\"1064\",\"type\":\"SaveTool\"},{\"attributes\":{},\"id\":\"1047\",\"type\":\"DataRange1d\"},{\"attributes\":{\"overlay\":{\"id\":\"1067\"}},\"id\":\"1063\",\"type\":\"BoxZoomTool\"},{\"attributes\":{},\"id\":\"1058\",\"type\":\"BasicTicker\"}],\"root_ids\":[\"1042\"]},\"title\":\"Bokeh Application\",\"version\":\"2.4.3\"}};\n",
       "  const render_items = [{\"docid\":\"1dbc0c86-6853-43df-bf1b-27f0c1b4c032\",\"root_ids\":[\"1042\"],\"roots\":{\"1042\":\"94421ba4-ef22-473c-8eb0-4da851e69b47\"}}];\n",
       "  root.Bokeh.embed.embed_items_notebook(docs_json, render_items);\n",
       "  }\n",
       "  if (root.Bokeh !== undefined) {\n",
       "    embed_document(root);\n",
       "  } else {\n",
       "    let attempts = 0;\n",
       "    const timer = setInterval(function(root) {\n",
       "      if (root.Bokeh !== undefined) {\n",
       "        clearInterval(timer);\n",
       "        embed_document(root);\n",
       "      } else {\n",
       "        attempts++;\n",
       "        if (attempts > 100) {\n",
       "          clearInterval(timer);\n",
       "          console.log(\"Bokeh: ERROR: Unable to run BokehJS code because BokehJS library is missing\");\n",
       "        }\n",
       "      }\n",
       "    }, 10, root)\n",
       "  }\n",
       "})(window);"
      ],
      "application/vnd.bokehjs_exec.v0+json": ""
     },
     "metadata": {
      "application/vnd.bokehjs_exec.v0+json": {
       "id": "1042"
      }
     },
     "output_type": "display_data"
    },
    {
     "data": {
      "text/html": [
       "\n",
       "  <div class=\"bk-root\" id=\"3301d82d-9b6d-46fd-a9f0-340ad8562572\" data-root-id=\"1081\"></div>\n"
      ]
     },
     "metadata": {},
     "output_type": "display_data"
    },
    {
     "data": {
      "application/javascript": [
       "(function(root) {\n",
       "  function embed_document(root) {\n",
       "  const docs_json = {\"1a1c3e59-d442-47ae-a20b-5d3491689060\":{\"defs\":[],\"roots\":{\"references\":[{\"attributes\":{\"below\":[{\"id\":\"1092\"}],\"center\":[{\"id\":\"1095\"},{\"id\":\"1099\"}],\"height\":400,\"left\":[{\"id\":\"1096\"}],\"renderers\":[{\"id\":\"1118\"}],\"title\":{\"id\":\"1082\"},\"toolbar\":{\"id\":\"1107\"},\"width\":400,\"x_range\":{\"id\":\"1084\"},\"x_scale\":{\"id\":\"1088\"},\"y_range\":{\"id\":\"1086\"},\"y_scale\":{\"id\":\"1090\"}},\"id\":\"1081\",\"subtype\":\"Figure\",\"type\":\"Plot\"},{\"attributes\":{},\"id\":\"1275\",\"type\":\"BasicTickFormatter\"},{\"attributes\":{},\"id\":\"1276\",\"type\":\"AllLabels\"},{\"attributes\":{},\"id\":\"1084\",\"type\":\"DataRange1d\"},{\"attributes\":{},\"id\":\"1277\",\"type\":\"UnionRenderers\"},{\"attributes\":{\"fill_color\":{\"value\":\"#1f77b4\"},\"line_color\":{\"value\":\"#1f77b4\"},\"x\":{\"field\":\"x\"},\"y\":{\"field\":\"y\"}},\"id\":\"1115\",\"type\":\"Scatter\"},{\"attributes\":{\"coordinates\":null,\"group\":null,\"text\":\"Ultramrathons Ran vs. Drinking Days\"},\"id\":\"1082\",\"type\":\"Title\"},{\"attributes\":{},\"id\":\"1278\",\"type\":\"Selection\"},{\"attributes\":{\"data\":{\"x\":[23,8,3,6,1,2,1,2,1,1,3,2,4,1,9,1,1,5,1,2,3,2,2,8,1,1,1,1,1,1,1,1,2,1,2,1,2,1,17,8,1,30,20,5,7,3,7,11,4,1,1,1,20,1,1,1,1,3,1,1,1,1,2,1,1,9,5,1,1,2,1,3,2,1,4,1,1,1],\"y\":{\"__ndarray__\":\"AAAAAAAAAEAAAAAAAADwPwAAAAAAAAAAAAAAAAAAAAAAAAAAAAAQQAAAAAAAAPA/AAAAAAAAGEAAAAAAAAAAAAAAAAAAAPA/AAAAAAAAAAAAAAAAAADwPwAAAAAAAABAAAAAAAAAAEAAAAAAAAAAQAAAAAAAAAAAAAAAAAAAGEAAAAAAAAAAQAAAAAAAAPA/AAAAAAAAFEAAAAAAAAAAAAAAAAAAAOA/AAAAAAAAAAAAAAAAAADwPwAAAAAAAAAAAAAAAAAA8D8AAAAAAAAAAAAAAAAAABRAAAAAAAAACECamZmZmZnJPwAAAAAAAAAAAAAAAAAA8D8AAAAAAADwPwAAAAAAABxAAAAAAAAAAAAAAAAAAAAAQAAAAAAAABRAAAAAAAAA8D8AAAAAAAAAQAAAAAAAAABAAAAAAAAAAAAAAAAAAAAAAAAAAAAAANA/AAAAAAAA8D8AAAAAAAAAAAAAAAAAAAhAAAAAAAAAAAAAAAAAAAAAAAAAAAAAAABAAAAAAAAA0D8AAAAAAAAAAAAAAAAAAPA/AAAAAAAACEAAAAAAAAAAAAAAAAAAAAAAAAAAAAAAAAAAAAAAAAAAQAAAAAAAAAhAAAAAAAAA8D8AAAAAAADwPwAAAAAAAPA/AAAAAAAASUAAAAAAAAAIQAAAAAAAAPA/AAAAAAAACEAAAAAAAAAYQAAAAAAAAAAAAAAAAAAA8D8AAAAAAADwPwAAAAAAABhAAAAAAAAA4D8AAAAAAAAAQAAAAAAAAAAAAAAAAAAA8D8AAAAAAAAAQAAAAAAAABRAAAAAAAAA8D8AAAAAAAAAAAAAAAAAAPA/\",\"dtype\":\"float64\",\"order\":\"little\",\"shape\":[78]}},\"selected\":{\"id\":\"1278\"},\"selection_policy\":{\"id\":\"1277\"}},\"id\":\"1114\",\"type\":\"ColumnDataSource\"},{\"attributes\":{},\"id\":\"1090\",\"type\":\"LinearScale\"},{\"attributes\":{\"axis_label\":\"Drinking Days Per Week\",\"coordinates\":null,\"formatter\":{\"id\":\"1272\"},\"group\":null,\"major_label_policy\":{\"id\":\"1273\"},\"ticker\":{\"id\":\"1097\"}},\"id\":\"1096\",\"type\":\"LinearAxis\"},{\"attributes\":{},\"id\":\"1086\",\"type\":\"DataRange1d\"},{\"attributes\":{},\"id\":\"1093\",\"type\":\"BasicTicker\"},{\"attributes\":{\"bottom_units\":\"screen\",\"coordinates\":null,\"fill_alpha\":0.5,\"fill_color\":\"lightgrey\",\"group\":null,\"left_units\":\"screen\",\"level\":\"overlay\",\"line_alpha\":1.0,\"line_color\":\"black\",\"line_dash\":[4,4],\"line_width\":2,\"right_units\":\"screen\",\"syncable\":false,\"top_units\":\"screen\"},\"id\":\"1106\",\"type\":\"BoxAnnotation\"},{\"attributes\":{\"axis\":{\"id\":\"1092\"},\"coordinates\":null,\"group\":null,\"ticker\":null},\"id\":\"1095\",\"type\":\"Grid\"},{\"attributes\":{},\"id\":\"1088\",\"type\":\"LinearScale\"},{\"attributes\":{\"axis_label\":\"Ultramarathons Ran\",\"coordinates\":null,\"formatter\":{\"id\":\"1275\"},\"group\":null,\"major_label_policy\":{\"id\":\"1276\"},\"ticker\":{\"id\":\"1093\"}},\"id\":\"1092\",\"type\":\"LinearAxis\"},{\"attributes\":{},\"id\":\"1273\",\"type\":\"AllLabels\"},{\"attributes\":{},\"id\":\"1105\",\"type\":\"HelpTool\"},{\"attributes\":{\"source\":{\"id\":\"1114\"}},\"id\":\"1119\",\"type\":\"CDSView\"},{\"attributes\":{\"axis\":{\"id\":\"1096\"},\"coordinates\":null,\"dimension\":1,\"group\":null,\"ticker\":null},\"id\":\"1099\",\"type\":\"Grid\"},{\"attributes\":{},\"id\":\"1097\",\"type\":\"BasicTicker\"},{\"attributes\":{\"tools\":[{\"id\":\"1100\"},{\"id\":\"1101\"},{\"id\":\"1102\"},{\"id\":\"1103\"},{\"id\":\"1104\"},{\"id\":\"1105\"}]},\"id\":\"1107\",\"type\":\"Toolbar\"},{\"attributes\":{},\"id\":\"1101\",\"type\":\"WheelZoomTool\"},{\"attributes\":{},\"id\":\"1100\",\"type\":\"PanTool\"},{\"attributes\":{\"fill_alpha\":{\"value\":0.1},\"fill_color\":{\"value\":\"#1f77b4\"},\"hatch_alpha\":{\"value\":0.1},\"line_alpha\":{\"value\":0.1},\"line_color\":{\"value\":\"#1f77b4\"},\"x\":{\"field\":\"x\"},\"y\":{\"field\":\"y\"}},\"id\":\"1116\",\"type\":\"Scatter\"},{\"attributes\":{\"overlay\":{\"id\":\"1106\"}},\"id\":\"1102\",\"type\":\"BoxZoomTool\"},{\"attributes\":{},\"id\":\"1103\",\"type\":\"SaveTool\"},{\"attributes\":{\"coordinates\":null,\"data_source\":{\"id\":\"1114\"},\"glyph\":{\"id\":\"1115\"},\"group\":null,\"hover_glyph\":null,\"muted_glyph\":{\"id\":\"1117\"},\"nonselection_glyph\":{\"id\":\"1116\"},\"view\":{\"id\":\"1119\"}},\"id\":\"1118\",\"type\":\"GlyphRenderer\"},{\"attributes\":{},\"id\":\"1104\",\"type\":\"ResetTool\"},{\"attributes\":{\"fill_alpha\":{\"value\":0.2},\"fill_color\":{\"value\":\"#1f77b4\"},\"hatch_alpha\":{\"value\":0.2},\"line_alpha\":{\"value\":0.2},\"line_color\":{\"value\":\"#1f77b4\"},\"x\":{\"field\":\"x\"},\"y\":{\"field\":\"y\"}},\"id\":\"1117\",\"type\":\"Scatter\"},{\"attributes\":{},\"id\":\"1272\",\"type\":\"BasicTickFormatter\"}],\"root_ids\":[\"1081\"]},\"title\":\"Bokeh Application\",\"version\":\"2.4.3\"}};\n",
       "  const render_items = [{\"docid\":\"1a1c3e59-d442-47ae-a20b-5d3491689060\",\"root_ids\":[\"1081\"],\"roots\":{\"1081\":\"3301d82d-9b6d-46fd-a9f0-340ad8562572\"}}];\n",
       "  root.Bokeh.embed.embed_items_notebook(docs_json, render_items);\n",
       "  }\n",
       "  if (root.Bokeh !== undefined) {\n",
       "    embed_document(root);\n",
       "  } else {\n",
       "    let attempts = 0;\n",
       "    const timer = setInterval(function(root) {\n",
       "      if (root.Bokeh !== undefined) {\n",
       "        clearInterval(timer);\n",
       "        embed_document(root);\n",
       "      } else {\n",
       "        attempts++;\n",
       "        if (attempts > 100) {\n",
       "          clearInterval(timer);\n",
       "          console.log(\"Bokeh: ERROR: Unable to run BokehJS code because BokehJS library is missing\");\n",
       "        }\n",
       "      }\n",
       "    }, 10, root)\n",
       "  }\n",
       "})(window);"
      ],
      "application/vnd.bokehjs_exec.v0+json": ""
     },
     "metadata": {
      "application/vnd.bokehjs_exec.v0+json": {
       "id": "1081"
      }
     },
     "output_type": "display_data"
    }
   ],
   "source": [
    "mileage=figure(width=400,height=400,title='Ultramarathons Ran vs. Current Weekly Mileage')\n",
    "mileage.scatter(x=x,y=km_week)\n",
    "mileage.xaxis.axis_label='Ultramarathons Ran'\n",
    "mileage.yaxis.axis_label='Weekly Mileage (km)'\n",
    "\n",
    "work=figure(width=400,height=400,title='Ultramrathons Ran vs. Average Work Hours Per Week')\n",
    "work.scatter(x=x,y=work_hrs)\n",
    "work.xaxis.axis_label='Ultramarathons Ran'\n",
    "work.yaxis.axis_label='Work Time per week (hrs)'\n",
    "\n",
    "drinks=figure(width=400,height=400,title='Ultramrathons Ran vs. Drinking Days')\n",
    "drinks.scatter(x=x,y=drink_day_pw)\n",
    "drinks.xaxis.axis_label='Ultramarathons Ran'\n",
    "drinks.yaxis.axis_label='Drinking Days Per Week'\n",
    "\n",
    "show(mileage)\n",
    "show(work)\n",
    "show(drinks)"
   ]
  },
  {
   "cell_type": "markdown",
   "id": "387f1ccc",
   "metadata": {},
   "source": [
    "Least surpisingly to me, is that ultramarathons do not appear to have an affect on working hours or drinking days. We can check out the correlations of these using principal component analysis. This way we can consider a scale for how related our data is. We define the correlation coefficient as \n",
    "$$\n",
    "R^{2} = \\frac{\\sigma_{XY}^2}{\\sigma_{X}^2\\sigma_{Y}^2}\n",
    "$$"
   ]
  },
  {
   "cell_type": "markdown",
   "id": "c9bc587b",
   "metadata": {},
   "source": [
    "We need to compute variances and covariances, which is done below. Due to constraints on the questionaire, we consider different N values and compute each differently. For the same reasons, we can no longer consider the working hours data."
   ]
  },
  {
   "cell_type": "code",
   "execution_count": 5,
   "id": "cef0791c",
   "metadata": {},
   "outputs": [
    {
     "name": "stdout",
     "output_type": "stream",
     "text": [
      "KM: 0.20628286398406612\n",
      "Drinks: 0.01210500585589698\n"
     ]
    }
   ],
   "source": [
    "km_coeff = (np.corrcoef(x, km_week)[0][1]) ** 2\n",
    "drink_coeff = (np.corrcoef(x, drink_day_pw)[0][1]) ** 2\n",
    "\n",
    "print('KM:', km_coeff)\n",
    "print('Drinks:', drink_coeff)"
   ]
  },
  {
   "cell_type": "markdown",
   "id": "2a7456f0",
   "metadata": {},
   "source": [
    "Notice that the coefficient for weekly mileage is much higher than that of drinking days per week. Neither are particularly strong correlations, however. The drinking result is much less surprising than that of weekly mileage. The expectation was for higher quantity of ultramarathons to correlate to a higher amount of weekly mileage. This was not the case though. Lets consider the line of best fit for weekly mileage using the method of least squares, to see if we are missing anything on the data. We must convert our data into appropiate arrays to continue."
   ]
  },
  {
   "cell_type": "code",
   "execution_count": 6,
   "id": "b852e766",
   "metadata": {},
   "outputs": [],
   "source": [
    "X = np.array(x)"
   ]
  },
  {
   "cell_type": "code",
   "execution_count": 7,
   "id": "474b86f2",
   "metadata": {},
   "outputs": [],
   "source": [
    "X = X.reshape(-1,1)\n",
    "ones = np.ones(X.shape)\n",
    "X = np.concatenate([X, ones], axis = 1)"
   ]
  },
  {
   "cell_type": "markdown",
   "id": "d8beb1d0",
   "metadata": {},
   "source": [
    "We check that our matrix X looks as it should (size 78, 2):"
   ]
  },
  {
   "cell_type": "code",
   "execution_count": 8,
   "id": "7cc45202",
   "metadata": {},
   "outputs": [
    {
     "name": "stdout",
     "output_type": "stream",
     "text": [
      "(78, 2)\n"
     ]
    }
   ],
   "source": [
    "print(X.shape)"
   ]
  },
  {
   "cell_type": "markdown",
   "id": "1c90c1a1",
   "metadata": {},
   "source": [
    "The measurements we are considering is KM ran per week."
   ]
  },
  {
   "cell_type": "code",
   "execution_count": 9,
   "id": "839c1d75",
   "metadata": {},
   "outputs": [],
   "source": [
    "Y = np.array(km_week)\n",
    "Y = Y.reshape(-1,1)"
   ]
  },
  {
   "cell_type": "markdown",
   "id": "ab3a2346",
   "metadata": {},
   "source": [
    "We are looking to compute the least squares line."
   ]
  },
  {
   "cell_type": "code",
   "execution_count": 10,
   "id": "09834c2d",
   "metadata": {},
   "outputs": [
    {
     "data": {
      "text/html": [
       "\n",
       "  <div class=\"bk-root\" id=\"6fa36043-5842-49bc-b5ba-a48625edfc18\" data-root-id=\"1003\"></div>\n"
      ]
     },
     "metadata": {},
     "output_type": "display_data"
    },
    {
     "data": {
      "application/javascript": [
       "(function(root) {\n",
       "  function embed_document(root) {\n",
       "  const docs_json = {\"3d90f53d-1194-4b27-98ec-6d466096b0d7\":{\"defs\":[],\"roots\":{\"references\":[{\"attributes\":{\"below\":[{\"id\":\"1014\"}],\"center\":[{\"id\":\"1017\"},{\"id\":\"1021\"}],\"height\":400,\"left\":[{\"id\":\"1018\"}],\"renderers\":[{\"id\":\"1040\"},{\"id\":\"1334\"},{\"id\":\"1372\"}],\"title\":{\"id\":\"1004\"},\"toolbar\":{\"id\":\"1029\"},\"width\":400,\"x_range\":{\"id\":\"1006\"},\"x_scale\":{\"id\":\"1010\"},\"y_range\":{\"id\":\"1008\"},\"y_scale\":{\"id\":\"1012\"}},\"id\":\"1003\",\"subtype\":\"Figure\",\"type\":\"Plot\"},{\"attributes\":{\"data\":{\"x\":[23,8,3,6,1,2,1,2,1,1,3,2,4,1,9,1,1,5,1,2,3,2,2,8,1,1,1,1,1,1,1,1,2,1,2,1,2,1,17,8,1,30,20,5,7,3,7,11,4,1,1,1,20,1,1,1,1,3,1,1,1,1,2,1,1,9,5,1,1,2,1,3,2,1,4,1,1,1],\"y\":{\"__ndarray__\":\"mNy2oqA9VkD4ojiR54tFQHSM+FSTzTtARuSGzg59QkAOD5XP4a81QMLNRpK6vjhADg+Vz+GvNUDCzUaSur44QA4Plc/hrzVADg+Vz+GvNUB0jPhUk807QMLNRpK6vjhAJ0uqF2zcPkAOD5XP4a81QFKCkfJTE0dADg+Vz+GvNUAOD5XP4a81QOwELm2i9UBADg+Vz+GvNUDCzUaSur44QHSM+FSTzTtAws1Gkrq+OEDCzUaSur44QPiiOJHni0VADg+Vz+GvNUAOD5XP4a81QA4Plc/hrzVADg+Vz+GvNUAOD5XP4a81QA4Plc/hrzVADg+Vz+GvNUAOD5XP4a81QMLNRpK6vjhADg+Vz+GvNUDCzUaSur44QA4Plc/hrzVAws1Gkrq+OEAOD5XP4a81QI4+rH5bp1FA+KI4keeLRUAOD5XP4a81QFPqbfebl1tAk42xEH7yU0DsBC5tovVAQJ7D3y97BERAdIz4VJPNO0Cew98vewREQARBQ7UsIkpAJ0uqF2zcPkAOD5XP4a81QA4Plc/hrzVADg+Vz+GvNUCTjbEQfvJTQA4Plc/hrzVADg+Vz+GvNUAOD5XP4a81QA4Plc/hrzVAdIz4VJPNO0AOD5XP4a81QA4Plc/hrzVADg+Vz+GvNUAOD5XP4a81QMLNRpK6vjhADg+Vz+GvNUAOD5XP4a81QFKCkfJTE0dA7AQubaL1QEAOD5XP4a81QA4Plc/hrzVAws1Gkrq+OEAOD5XP4a81QHSM+FSTzTtAws1Gkrq+OEAOD5XP4a81QCdLqhds3D5ADg+Vz+GvNUAOD5XP4a81QA4Plc/hrzVA\",\"dtype\":\"float64\",\"order\":\"little\",\"shape\":[78]}},\"selected\":{\"id\":\"1346\"},\"selection_policy\":{\"id\":\"1345\"}},\"id\":\"1330\",\"type\":\"ColumnDataSource\"},{\"attributes\":{\"source\":{\"id\":\"1368\"}},\"id\":\"1373\",\"type\":\"CDSView\"},{\"attributes\":{},\"id\":\"1345\",\"type\":\"UnionRenderers\"},{\"attributes\":{},\"id\":\"1386\",\"type\":\"Selection\"},{\"attributes\":{\"line_alpha\":0.2,\"line_color\":\"red\",\"x\":{\"field\":\"x\"},\"y\":{\"field\":\"y\"}},\"id\":\"1371\",\"type\":\"Line\"},{\"attributes\":{\"fill_alpha\":{\"value\":0.1},\"fill_color\":{\"value\":\"red\"},\"hatch_alpha\":{\"value\":0.1},\"hatch_color\":{\"value\":\"red\"},\"line_alpha\":{\"value\":0.1},\"line_color\":{\"value\":\"red\"},\"x\":{\"field\":\"x\"},\"y\":{\"field\":\"y\"}},\"id\":\"1332\",\"type\":\"Scatter\"},{\"attributes\":{},\"id\":\"1128\",\"type\":\"Selection\"},{\"attributes\":{},\"id\":\"1008\",\"type\":\"DataRange1d\"},{\"attributes\":{\"bottom_units\":\"screen\",\"coordinates\":null,\"fill_alpha\":0.5,\"fill_color\":\"lightgrey\",\"group\":null,\"left_units\":\"screen\",\"level\":\"overlay\",\"line_alpha\":1.0,\"line_color\":\"black\",\"line_dash\":[4,4],\"line_width\":2,\"right_units\":\"screen\",\"syncable\":false,\"top_units\":\"screen\"},\"id\":\"1028\",\"type\":\"BoxAnnotation\"},{\"attributes\":{},\"id\":\"1385\",\"type\":\"UnionRenderers\"},{\"attributes\":{},\"id\":\"1122\",\"type\":\"BasicTickFormatter\"},{\"attributes\":{},\"id\":\"1026\",\"type\":\"ResetTool\"},{\"attributes\":{\"coordinates\":null,\"data_source\":{\"id\":\"1368\"},\"glyph\":{\"id\":\"1369\"},\"group\":null,\"hover_glyph\":null,\"muted_glyph\":{\"id\":\"1371\"},\"nonselection_glyph\":{\"id\":\"1370\"},\"view\":{\"id\":\"1373\"}},\"id\":\"1372\",\"type\":\"GlyphRenderer\"},{\"attributes\":{\"fill_color\":{\"value\":\"red\"},\"hatch_color\":{\"value\":\"red\"},\"line_color\":{\"value\":\"red\"},\"x\":{\"field\":\"x\"},\"y\":{\"field\":\"y\"}},\"id\":\"1331\",\"type\":\"Scatter\"},{\"attributes\":{},\"id\":\"1025\",\"type\":\"SaveTool\"},{\"attributes\":{\"overlay\":{\"id\":\"1028\"}},\"id\":\"1024\",\"type\":\"BoxZoomTool\"},{\"attributes\":{},\"id\":\"1022\",\"type\":\"PanTool\"},{\"attributes\":{},\"id\":\"1023\",\"type\":\"WheelZoomTool\"},{\"attributes\":{},\"id\":\"1123\",\"type\":\"AllLabels\"},{\"attributes\":{\"axis_label\":\"Weekly Mileage (km)\",\"coordinates\":null,\"formatter\":{\"id\":\"1122\"},\"group\":null,\"major_label_policy\":{\"id\":\"1123\"},\"ticker\":{\"id\":\"1019\"}},\"id\":\"1018\",\"type\":\"LinearAxis\"},{\"attributes\":{},\"id\":\"1015\",\"type\":\"BasicTicker\"},{\"attributes\":{\"line_alpha\":0.1,\"line_color\":\"red\",\"x\":{\"field\":\"x\"},\"y\":{\"field\":\"y\"}},\"id\":\"1370\",\"type\":\"Line\"},{\"attributes\":{\"axis\":{\"id\":\"1014\"},\"coordinates\":null,\"group\":null,\"ticker\":null},\"id\":\"1017\",\"type\":\"Grid\"},{\"attributes\":{},\"id\":\"1019\",\"type\":\"BasicTicker\"},{\"attributes\":{},\"id\":\"1125\",\"type\":\"BasicTickFormatter\"},{\"attributes\":{\"axis\":{\"id\":\"1018\"},\"coordinates\":null,\"dimension\":1,\"group\":null,\"ticker\":null},\"id\":\"1021\",\"type\":\"Grid\"},{\"attributes\":{},\"id\":\"1346\",\"type\":\"Selection\"},{\"attributes\":{},\"id\":\"1027\",\"type\":\"HelpTool\"},{\"attributes\":{\"source\":{\"id\":\"1036\"}},\"id\":\"1041\",\"type\":\"CDSView\"},{\"attributes\":{\"axis_label\":\"Ultramarathons Ran\",\"coordinates\":null,\"formatter\":{\"id\":\"1125\"},\"group\":null,\"major_label_policy\":{\"id\":\"1126\"},\"ticker\":{\"id\":\"1015\"}},\"id\":\"1014\",\"type\":\"LinearAxis\"},{\"attributes\":{},\"id\":\"1126\",\"type\":\"AllLabels\"},{\"attributes\":{\"fill_alpha\":{\"value\":0.1},\"fill_color\":{\"value\":\"#1f77b4\"},\"hatch_alpha\":{\"value\":0.1},\"line_alpha\":{\"value\":0.1},\"line_color\":{\"value\":\"#1f77b4\"},\"x\":{\"field\":\"x\"},\"y\":{\"field\":\"y\"}},\"id\":\"1038\",\"type\":\"Scatter\"},{\"attributes\":{\"fill_alpha\":{\"value\":0.2},\"fill_color\":{\"value\":\"red\"},\"hatch_alpha\":{\"value\":0.2},\"hatch_color\":{\"value\":\"red\"},\"line_alpha\":{\"value\":0.2},\"line_color\":{\"value\":\"red\"},\"x\":{\"field\":\"x\"},\"y\":{\"field\":\"y\"}},\"id\":\"1333\",\"type\":\"Scatter\"},{\"attributes\":{},\"id\":\"1012\",\"type\":\"LinearScale\"},{\"attributes\":{\"data\":{\"x\":[23,8,3,6,1,2,1,2,1,1,3,2,4,1,9,1,1,5,1,2,3,2,2,8,1,1,1,1,1,1,1,1,2,1,2,1,2,1,17,8,1,30,20,5,7,3,7,11,4,1,1,1,20,1,1,1,1,3,1,1,1,1,2,1,1,9,5,1,1,2,1,3,2,1,4,1,1,1],\"y\":{\"__ndarray__\":\"AAAAAAAAVEAAAAAAAIBRQAAAAAAAAAAAAAAAAAAAVEAAAAAAAABUQAAAAAAAADBAAAAAAAAASEAAAAAAAABJQAAAAAAAgFZAAAAAAAAATkAzMzMzMzMzQDMzMzMzMzNAAAAAAAAAAAAAAAAAAABOQAAAAAAAAFRAAAAAAAAAUkAAAAAAAAAAAAAAAAAAAExAAAAAAAAAMEAzMzMzMzMTQDMzMzMzMzNAAAAAAAAAAAAAAAAAAAAAAAAAAAAAAAAAAAAAAAAAMEAAAAAAAABAQAAAAAAAAExAAAAAAAAAAAAAAAAAAAAAAAAAAAAAAAAAAAAAAAAAAACamZmZmZkZQAAAAAAAADhAAAAAAAAAAAAAAAAAAABQQAAAAAAAAAAAAAAAAAAAYUAAAAAAAAAwQAAAAAAAAGFAAAAAAAAAXkAAAAAAAABAQAAAAAAAAGJAmpmZmZmZKUAAAAAAAAAAAAAAAAAAAAAAAAAAAAAASEAAAAAAAAAAAM3MzMzMzDxAZmZmZmZmJkAAAAAAAAAAAAAAAAAAAAAAAAAAAAAAQEAAAAAAAABEQAAAAAAAAAAAAAAAAAAAAAAAAAAAAAAgQAAAAAAAAAAAAAAAAAAAVEAAAAAAAAAAAAAAAAAAAAAAAAAAAAAAAAAAAAAAAAAAAAAAAAAAAEhAAAAAAAAAAAAAAAAAAAAAAAAAAAAAAExAAAAAAAAAOEAAAAAAAABEQAAAAAAAAAAAAAAAAAAAAACamZmZmZkpQAAAAAAAAEhAAAAAAAAASEAAAAAAAAAgQJqZmZmZmTFAAAAAAAAAAAAAAAAAAAAAAAAAAAAAAFRA\",\"dtype\":\"float64\",\"order\":\"little\",\"shape\":[78]}},\"selected\":{\"id\":\"1128\"},\"selection_policy\":{\"id\":\"1127\"}},\"id\":\"1036\",\"type\":\"ColumnDataSource\"},{\"attributes\":{},\"id\":\"1010\",\"type\":\"LinearScale\"},{\"attributes\":{\"fill_alpha\":{\"value\":0.2},\"fill_color\":{\"value\":\"#1f77b4\"},\"hatch_alpha\":{\"value\":0.2},\"line_alpha\":{\"value\":0.2},\"line_color\":{\"value\":\"#1f77b4\"},\"x\":{\"field\":\"x\"},\"y\":{\"field\":\"y\"}},\"id\":\"1039\",\"type\":\"Scatter\"},{\"attributes\":{\"coordinates\":null,\"group\":null,\"text\":\"Ultramarathons Ran vs. Current Weekly Mileage\"},\"id\":\"1004\",\"type\":\"Title\"},{\"attributes\":{},\"id\":\"1006\",\"type\":\"DataRange1d\"},{\"attributes\":{\"source\":{\"id\":\"1330\"}},\"id\":\"1335\",\"type\":\"CDSView\"},{\"attributes\":{\"data\":{\"x\":[23,8,3,6,1,2,1,2,1,1,3,2,4,1,9,1,1,5,1,2,3,2,2,8,1,1,1,1,1,1,1,1,2,1,2,1,2,1,17,8,1,30,20,5,7,3,7,11,4,1,1,1,20,1,1,1,1,3,1,1,1,1,2,1,1,9,5,1,1,2,1,3,2,1,4,1,1,1],\"y\":{\"__ndarray__\":\"mNy2oqA9VkD4ojiR54tFQHSM+FSTzTtARuSGzg59QkAOD5XP4a81QMLNRpK6vjhADg+Vz+GvNUDCzUaSur44QA4Plc/hrzVADg+Vz+GvNUB0jPhUk807QMLNRpK6vjhAJ0uqF2zcPkAOD5XP4a81QFKCkfJTE0dADg+Vz+GvNUAOD5XP4a81QOwELm2i9UBADg+Vz+GvNUDCzUaSur44QHSM+FSTzTtAws1Gkrq+OEDCzUaSur44QPiiOJHni0VADg+Vz+GvNUAOD5XP4a81QA4Plc/hrzVADg+Vz+GvNUAOD5XP4a81QA4Plc/hrzVADg+Vz+GvNUAOD5XP4a81QMLNRpK6vjhADg+Vz+GvNUDCzUaSur44QA4Plc/hrzVAws1Gkrq+OEAOD5XP4a81QI4+rH5bp1FA+KI4keeLRUAOD5XP4a81QFPqbfebl1tAk42xEH7yU0DsBC5tovVAQJ7D3y97BERAdIz4VJPNO0Cew98vewREQARBQ7UsIkpAJ0uqF2zcPkAOD5XP4a81QA4Plc/hrzVADg+Vz+GvNUCTjbEQfvJTQA4Plc/hrzVADg+Vz+GvNUAOD5XP4a81QA4Plc/hrzVAdIz4VJPNO0AOD5XP4a81QA4Plc/hrzVADg+Vz+GvNUAOD5XP4a81QMLNRpK6vjhADg+Vz+GvNUAOD5XP4a81QFKCkfJTE0dA7AQubaL1QEAOD5XP4a81QA4Plc/hrzVAws1Gkrq+OEAOD5XP4a81QHSM+FSTzTtAws1Gkrq+OEAOD5XP4a81QCdLqhds3D5ADg+Vz+GvNUAOD5XP4a81QA4Plc/hrzVA\",\"dtype\":\"float64\",\"order\":\"little\",\"shape\":[78]}},\"selected\":{\"id\":\"1386\"},\"selection_policy\":{\"id\":\"1385\"}},\"id\":\"1368\",\"type\":\"ColumnDataSource\"},{\"attributes\":{\"coordinates\":null,\"data_source\":{\"id\":\"1036\"},\"glyph\":{\"id\":\"1037\"},\"group\":null,\"hover_glyph\":null,\"muted_glyph\":{\"id\":\"1039\"},\"nonselection_glyph\":{\"id\":\"1038\"},\"view\":{\"id\":\"1041\"}},\"id\":\"1040\",\"type\":\"GlyphRenderer\"},{\"attributes\":{\"fill_color\":{\"value\":\"#1f77b4\"},\"line_color\":{\"value\":\"#1f77b4\"},\"x\":{\"field\":\"x\"},\"y\":{\"field\":\"y\"}},\"id\":\"1037\",\"type\":\"Scatter\"},{\"attributes\":{},\"id\":\"1127\",\"type\":\"UnionRenderers\"},{\"attributes\":{\"coordinates\":null,\"data_source\":{\"id\":\"1330\"},\"glyph\":{\"id\":\"1331\"},\"group\":null,\"hover_glyph\":null,\"muted_glyph\":{\"id\":\"1333\"},\"nonselection_glyph\":{\"id\":\"1332\"},\"view\":{\"id\":\"1335\"}},\"id\":\"1334\",\"type\":\"GlyphRenderer\"},{\"attributes\":{\"tools\":[{\"id\":\"1022\"},{\"id\":\"1023\"},{\"id\":\"1024\"},{\"id\":\"1025\"},{\"id\":\"1026\"},{\"id\":\"1027\"}]},\"id\":\"1029\",\"type\":\"Toolbar\"},{\"attributes\":{\"line_color\":\"red\",\"x\":{\"field\":\"x\"},\"y\":{\"field\":\"y\"}},\"id\":\"1369\",\"type\":\"Line\"}],\"root_ids\":[\"1003\"]},\"title\":\"Bokeh Application\",\"version\":\"2.4.3\"}};\n",
       "  const render_items = [{\"docid\":\"3d90f53d-1194-4b27-98ec-6d466096b0d7\",\"root_ids\":[\"1003\"],\"roots\":{\"1003\":\"6fa36043-5842-49bc-b5ba-a48625edfc18\"}}];\n",
       "  root.Bokeh.embed.embed_items_notebook(docs_json, render_items);\n",
       "  }\n",
       "  if (root.Bokeh !== undefined) {\n",
       "    embed_document(root);\n",
       "  } else {\n",
       "    let attempts = 0;\n",
       "    const timer = setInterval(function(root) {\n",
       "      if (root.Bokeh !== undefined) {\n",
       "        clearInterval(timer);\n",
       "        embed_document(root);\n",
       "      } else {\n",
       "        attempts++;\n",
       "        if (attempts > 100) {\n",
       "          clearInterval(timer);\n",
       "          console.log(\"Bokeh: ERROR: Unable to run BokehJS code because BokehJS library is missing\");\n",
       "        }\n",
       "      }\n",
       "    }, 10, root)\n",
       "  }\n",
       "})(window);"
      ],
      "application/vnd.bokehjs_exec.v0+json": ""
     },
     "metadata": {
      "application/vnd.bokehjs_exec.v0+json": {
       "id": "1003"
      }
     },
     "output_type": "display_data"
    }
   ],
   "source": [
    "D = np.dot(X.transpose(),X)\n",
    "M = np.dot(np.linalg.inv(D),np.dot(X.transpose(), Y))\n",
    "Yhat = np.dot(np.dot(np.dot(X,np.linalg.inv(D)),X.transpose()),Y)\n",
    "mileage.scatter(x=x,y=Yhat[:,0],color='red')\n",
    "mileage.line(x=x,y=Yhat[:,0],color='red')\n",
    "show(mileage)"
   ]
  },
  {
   "cell_type": "markdown",
   "id": "7457ff96",
   "metadata": {},
   "source": [
    "This is the line that mitigates the mean squares error, however, we can see that the quantity of ultramarathons is not predicative of the outcomes of current weekly mileage. Note that a large amount of the points are on the far left side of the plot, away from where the line of best fit would suggest. It would appear that running ultramarathons correlates to running, but that is not a result we are looking for, as that result is trivial."
   ]
  },
  {
   "cell_type": "markdown",
   "id": "8f629703",
   "metadata": {},
   "source": [
    "### Age of First Ultramarathon"
   ]
  },
  {
   "cell_type": "markdown",
   "id": "ae7f6ddb",
   "metadata": {},
   "source": [
    "The quantity of ultramarathons did not produce much results. Perhaps this was due to participants having ran there ultramarathons as they slowed development. This would be a notworthy conclusion due to the ultramarathon advice of waiting to run one until you are fully developed. We will now consider how height and weight at the age of 25 was affected by the age in which a participant ran their first ultramarathon."
   ]
  },
  {
   "cell_type": "code",
   "execution_count": 11,
   "id": "f0e1d754",
   "metadata": {},
   "outputs": [],
   "source": [
    "age = ultramarathon[\"AGE_1ST_UM\"]\n",
    "height25 = ultramarathon[\"HEIGHT_AT_25\"]\n",
    "weight25 = ultramarathon[\"WEIGHT_AT_25\"]"
   ]
  },
  {
   "cell_type": "markdown",
   "id": "933b6701",
   "metadata": {},
   "source": [
    "There were two heights and weights to consider in the study. There is current height and weight, versus that of age 25. We consider the age 25 height and weight for continuity purposes."
   ]
  },
  {
   "cell_type": "code",
   "execution_count": 12,
   "id": "5d2fee9e",
   "metadata": {},
   "outputs": [
    {
     "data": {
      "text/html": [
       "\n",
       "  <div class=\"bk-root\" id=\"56a518c7-5912-4329-8850-89cb9a565c13\" data-root-id=\"1478\"></div>\n"
      ]
     },
     "metadata": {},
     "output_type": "display_data"
    },
    {
     "data": {
      "application/javascript": [
       "(function(root) {\n",
       "  function embed_document(root) {\n",
       "  const docs_json = {\"ee912149-677e-4a31-a4bb-3b928c9717cc\":{\"defs\":[],\"roots\":{\"references\":[{\"attributes\":{\"below\":[{\"id\":\"1489\"}],\"center\":[{\"id\":\"1492\"},{\"id\":\"1496\"}],\"height\":400,\"left\":[{\"id\":\"1493\"}],\"renderers\":[{\"id\":\"1515\"}],\"title\":{\"id\":\"1479\"},\"toolbar\":{\"id\":\"1504\"},\"width\":400,\"x_range\":{\"id\":\"1481\"},\"x_scale\":{\"id\":\"1485\"},\"y_range\":{\"id\":\"1483\"},\"y_scale\":{\"id\":\"1487\"}},\"id\":\"1478\",\"subtype\":\"Figure\",\"type\":\"Plot\"},{\"attributes\":{\"data\":{\"x\":[11,17,18,15,18,16,16,18,18,18,14,13,12,8,9,17,18,14,16,16,16,18,17,15,17,15,17,16,18,16,18,18,11,16,16,18,17,18,16,16,18,9,15,13,13,18,17,17,15,17,17,18,16,16,16,14,17,18,16,15,18,17,18,18,18,14,16,17,18,16,18,15,18,18,16,18,16,18],\"y\":{\"__ndarray__\":\"mpmZmZlpYkAAAAAAAGBkQAAAAAAAoGNAAAAAAACAZ0CamZmZmYlmQDMzMzMzU2RAmpmZmZmJZkAAAAAAACBnQAAAAAAAYGdAAAAAAACgY0DNzMzMzNxmQGZmZmZmlmVAzczMzMzcZkAAAAAAACBlQGZmZmZmlmVAZmZmZmaWZUAAAAAAAIBnQJqZmZmZiWZAAAAAAACAZ0BmZmZmZpZlQM3MzMzM3GZAAAAAAACwY0CamZmZmTlmQAAAAAAAgGdAzczMzMwsZ0DNzMzMzNxmQAAAAAAA0GdAmpmZmZnpZUDNzMzMzNxmQJqZmZmZiWZAAAAAAACwY0CamZmZmellQAAAAAAA0GdAmpmZmZnpZUCamZmZmTlmQAAAAAAAwGVAZmZmZmaWZUDNzMzMzNxmQJqZmZmZOWZAAAAAAACAZ0CamZmZmdljQGZmZmZmlmVAMzMzMzNjZkAzMzMzM1NkQGZmZmZmlmVAZmZmZmaWZUCamZmZmTlmQM3MzMzMLGdAzczMzMwsZ0AAAAAAAABkQM3MzMzM3GZAZmZmZmaWZUCamZmZmellQJqZmZmZ6WVAzczMzMwsZ0AzMzMzM1NkQAAAAAAAgGdAAAAAAAAgaECamZmZmYlmQAAAAAAAgGdAzczMzMzcZkDNzMzMzCxnQM3MzMzM3GZAzczMzMwsZ0DNzMzMzCxnQJqZmZmZOWZAAAAAAACAZ0AzMzMzM/NkQGZmZmZmJmZAZmZmZmZWZ0CamZmZmTlmQM3MzMzM3GZAmpmZmZnpZUCamZmZmYlmQJqZmZmZiWZAMzMzMzNTZECamZmZmTlmQJqZmZmZ6WVA\",\"dtype\":\"float64\",\"order\":\"little\",\"shape\":[78]}},\"selected\":{\"id\":\"1598\"},\"selection_policy\":{\"id\":\"1597\"}},\"id\":\"1511\",\"type\":\"ColumnDataSource\"},{\"attributes\":{},\"id\":\"1487\",\"type\":\"LinearScale\"},{\"attributes\":{},\"id\":\"1490\",\"type\":\"BasicTicker\"},{\"attributes\":{},\"id\":\"1494\",\"type\":\"BasicTicker\"},{\"attributes\":{},\"id\":\"1502\",\"type\":\"HelpTool\"},{\"attributes\":{\"overlay\":{\"id\":\"1503\"}},\"id\":\"1499\",\"type\":\"BoxZoomTool\"},{\"attributes\":{\"axis\":{\"id\":\"1489\"},\"coordinates\":null,\"group\":null,\"ticker\":null},\"id\":\"1492\",\"type\":\"Grid\"},{\"attributes\":{},\"id\":\"1597\",\"type\":\"UnionRenderers\"},{\"attributes\":{\"coordinates\":null,\"group\":null,\"text\":\"Age of 1st Ultramarathon and Height\"},\"id\":\"1479\",\"type\":\"Title\"},{\"attributes\":{},\"id\":\"1598\",\"type\":\"Selection\"},{\"attributes\":{\"bottom_units\":\"screen\",\"coordinates\":null,\"fill_alpha\":0.5,\"fill_color\":\"lightgrey\",\"group\":null,\"left_units\":\"screen\",\"level\":\"overlay\",\"line_alpha\":1.0,\"line_color\":\"black\",\"line_dash\":[4,4],\"line_width\":2,\"right_units\":\"screen\",\"syncable\":false,\"top_units\":\"screen\"},\"id\":\"1503\",\"type\":\"BoxAnnotation\"},{\"attributes\":{\"coordinates\":null,\"data_source\":{\"id\":\"1511\"},\"glyph\":{\"id\":\"1512\"},\"group\":null,\"hover_glyph\":null,\"muted_glyph\":{\"id\":\"1514\"},\"nonselection_glyph\":{\"id\":\"1513\"},\"view\":{\"id\":\"1516\"}},\"id\":\"1515\",\"type\":\"GlyphRenderer\"},{\"attributes\":{\"source\":{\"id\":\"1511\"}},\"id\":\"1516\",\"type\":\"CDSView\"},{\"attributes\":{\"axis_label\":\"Weekly Mileage (km)\",\"coordinates\":null,\"formatter\":{\"id\":\"1592\"},\"group\":null,\"major_label_policy\":{\"id\":\"1593\"},\"ticker\":{\"id\":\"1494\"}},\"id\":\"1493\",\"type\":\"LinearAxis\"},{\"attributes\":{},\"id\":\"1483\",\"type\":\"DataRange1d\"},{\"attributes\":{\"fill_alpha\":{\"value\":0.1},\"fill_color\":{\"value\":\"#1f77b4\"},\"hatch_alpha\":{\"value\":0.1},\"line_alpha\":{\"value\":0.1},\"line_color\":{\"value\":\"#1f77b4\"},\"x\":{\"field\":\"x\"},\"y\":{\"field\":\"y\"}},\"id\":\"1513\",\"type\":\"Scatter\"},{\"attributes\":{\"tools\":[{\"id\":\"1497\"},{\"id\":\"1498\"},{\"id\":\"1499\"},{\"id\":\"1500\"},{\"id\":\"1501\"},{\"id\":\"1502\"}]},\"id\":\"1504\",\"type\":\"Toolbar\"},{\"attributes\":{\"fill_color\":{\"value\":\"#1f77b4\"},\"line_color\":{\"value\":\"#1f77b4\"},\"x\":{\"field\":\"x\"},\"y\":{\"field\":\"y\"}},\"id\":\"1512\",\"type\":\"Scatter\"},{\"attributes\":{\"axis\":{\"id\":\"1493\"},\"coordinates\":null,\"dimension\":1,\"group\":null,\"ticker\":null},\"id\":\"1496\",\"type\":\"Grid\"},{\"attributes\":{},\"id\":\"1497\",\"type\":\"PanTool\"},{\"attributes\":{},\"id\":\"1501\",\"type\":\"ResetTool\"},{\"attributes\":{},\"id\":\"1498\",\"type\":\"WheelZoomTool\"},{\"attributes\":{},\"id\":\"1592\",\"type\":\"BasicTickFormatter\"},{\"attributes\":{\"fill_alpha\":{\"value\":0.2},\"fill_color\":{\"value\":\"#1f77b4\"},\"hatch_alpha\":{\"value\":0.2},\"line_alpha\":{\"value\":0.2},\"line_color\":{\"value\":\"#1f77b4\"},\"x\":{\"field\":\"x\"},\"y\":{\"field\":\"y\"}},\"id\":\"1514\",\"type\":\"Scatter\"},{\"attributes\":{\"axis_label\":\"Age of 1st Ultramarathon\",\"coordinates\":null,\"formatter\":{\"id\":\"1595\"},\"group\":null,\"major_label_policy\":{\"id\":\"1596\"},\"ticker\":{\"id\":\"1490\"}},\"id\":\"1489\",\"type\":\"LinearAxis\"},{\"attributes\":{},\"id\":\"1596\",\"type\":\"AllLabels\"},{\"attributes\":{},\"id\":\"1593\",\"type\":\"AllLabels\"},{\"attributes\":{},\"id\":\"1500\",\"type\":\"SaveTool\"},{\"attributes\":{},\"id\":\"1595\",\"type\":\"BasicTickFormatter\"},{\"attributes\":{},\"id\":\"1485\",\"type\":\"LinearScale\"},{\"attributes\":{},\"id\":\"1481\",\"type\":\"DataRange1d\"}],\"root_ids\":[\"1478\"]},\"title\":\"Bokeh Application\",\"version\":\"2.4.3\"}};\n",
       "  const render_items = [{\"docid\":\"ee912149-677e-4a31-a4bb-3b928c9717cc\",\"root_ids\":[\"1478\"],\"roots\":{\"1478\":\"56a518c7-5912-4329-8850-89cb9a565c13\"}}];\n",
       "  root.Bokeh.embed.embed_items_notebook(docs_json, render_items);\n",
       "  }\n",
       "  if (root.Bokeh !== undefined) {\n",
       "    embed_document(root);\n",
       "  } else {\n",
       "    let attempts = 0;\n",
       "    const timer = setInterval(function(root) {\n",
       "      if (root.Bokeh !== undefined) {\n",
       "        clearInterval(timer);\n",
       "        embed_document(root);\n",
       "      } else {\n",
       "        attempts++;\n",
       "        if (attempts > 100) {\n",
       "          clearInterval(timer);\n",
       "          console.log(\"Bokeh: ERROR: Unable to run BokehJS code because BokehJS library is missing\");\n",
       "        }\n",
       "      }\n",
       "    }, 10, root)\n",
       "  }\n",
       "})(window);"
      ],
      "application/vnd.bokehjs_exec.v0+json": ""
     },
     "metadata": {
      "application/vnd.bokehjs_exec.v0+json": {
       "id": "1478"
      }
     },
     "output_type": "display_data"
    },
    {
     "data": {
      "text/html": [
       "\n",
       "  <div class=\"bk-root\" id=\"31eec435-a6c6-42f3-ac43-598543faa5df\" data-root-id=\"1517\"></div>\n"
      ]
     },
     "metadata": {},
     "output_type": "display_data"
    },
    {
     "data": {
      "application/javascript": [
       "(function(root) {\n",
       "  function embed_document(root) {\n",
       "  const docs_json = {\"e20cfc42-a079-4f7d-94e4-a035d16d1279\":{\"defs\":[],\"roots\":{\"references\":[{\"attributes\":{\"below\":[{\"id\":\"1528\"}],\"center\":[{\"id\":\"1531\"},{\"id\":\"1535\"}],\"height\":400,\"left\":[{\"id\":\"1532\"}],\"renderers\":[{\"id\":\"1554\"}],\"title\":{\"id\":\"1518\"},\"toolbar\":{\"id\":\"1543\"},\"width\":400,\"x_range\":{\"id\":\"1520\"},\"x_scale\":{\"id\":\"1524\"},\"y_range\":{\"id\":\"1522\"},\"y_scale\":{\"id\":\"1526\"}},\"id\":\"1517\",\"subtype\":\"Figure\",\"type\":\"Plot\"},{\"attributes\":{\"overlay\":{\"id\":\"1542\"}},\"id\":\"1538\",\"type\":\"BoxZoomTool\"},{\"attributes\":{\"fill_color\":{\"value\":\"#1f77b4\"},\"line_color\":{\"value\":\"#1f77b4\"},\"x\":{\"field\":\"x\"},\"y\":{\"field\":\"y\"}},\"id\":\"1551\",\"type\":\"Scatter\"},{\"attributes\":{\"axis_label\":\"Weight at 25 (kg)\",\"coordinates\":null,\"formatter\":{\"id\":\"1696\"},\"group\":null,\"major_label_policy\":{\"id\":\"1697\"},\"ticker\":{\"id\":\"1533\"}},\"id\":\"1532\",\"type\":\"LinearAxis\"},{\"attributes\":{\"fill_alpha\":{\"value\":0.2},\"fill_color\":{\"value\":\"#1f77b4\"},\"hatch_alpha\":{\"value\":0.2},\"line_alpha\":{\"value\":0.2},\"line_color\":{\"value\":\"#1f77b4\"},\"x\":{\"field\":\"x\"},\"y\":{\"field\":\"y\"}},\"id\":\"1553\",\"type\":\"Scatter\"},{\"attributes\":{},\"id\":\"1700\",\"type\":\"AllLabels\"},{\"attributes\":{\"source\":{\"id\":\"1550\"}},\"id\":\"1555\",\"type\":\"CDSView\"},{\"attributes\":{\"coordinates\":null,\"group\":null,\"text\":\"Age of 1st Ultramarathon and Weight\"},\"id\":\"1518\",\"type\":\"Title\"},{\"attributes\":{\"coordinates\":null,\"data_source\":{\"id\":\"1550\"},\"glyph\":{\"id\":\"1551\"},\"group\":null,\"hover_glyph\":null,\"muted_glyph\":{\"id\":\"1553\"},\"nonselection_glyph\":{\"id\":\"1552\"},\"view\":{\"id\":\"1555\"}},\"id\":\"1554\",\"type\":\"GlyphRenderer\"},{\"attributes\":{},\"id\":\"1701\",\"type\":\"UnionRenderers\"},{\"attributes\":{\"data\":{\"x\":[11,17,18,15,18,16,16,18,18,18,14,13,12,8,9,17,18,14,16,16,16,18,17,15,17,15,17,16,18,16,18,18,11,16,16,18,17,18,16,16,18,9,15,13,13,18,17,17,15,17,17,18,16,16,16,14,17,18,16,15,18,17,18,18,18,14,16,17,18,16,18,15,18,18,16,18,16,18],\"y\":{\"__ndarray__\":\"mpmZmZmZTkCamZmZmRlQQAAAAAAAAE9AmpmZmZnZU0BmZmZmZiZSQAAAAAAAAFBAZmZmZmZmU0CamZmZmZlSQAAAAAAAQFNAAAAAAACAS0AAAAAAAABRQJqZmZmZeVJAZmZmZmbGUEAAAAAAAIBMQAAAAAAAAFFAAAAAAAAAUUBmZmZmZoZZQGZmZmZmJlJAmpmZmZn5VEDNzMzMzKxWQJqZmZmZ+VRAmpmZmZkZSkBmZmZmZiZSQGZmZmZmZlRAmpmZmZn5VEBmZmZmZkZTQAAAAAAAQFdAmpmZmZnZU0CamZmZmZlOQJqZmZmZ+VRAAAAAAADAT0DNzMzMzOxRQAAAAAAAwE9AAAAAAAAAUUBmZmZmZiZSQAAAAAAAwE9AAAAAAADAT0BmZmZmZmZUQAAAAAAAwE9AMzMzMzOTUUAAAAAAAABLQJqZmZmZmU5AzczMzMysVkAzMzMzM5NRQJqZmZmZmU5AAAAAAADAT0BmZmZmZmZUQDMzMzMzc1ZAmpmZmZn5VECamZmZmVlMQM3MzMzMjFVAZmZmZmZGU0BmZmZmZkZTQM3MzMzMjFVAZmZmZmZGU0BmZmZmZqZLQAAAAAAAQFdAmpmZmZn5VEAAAAAAACBWQJqZmZmZ2VNAmpmZmZnZU0BmZmZmZkZTQDMzMzMzk1FAMzMzMzMTVEAAAAAAACBWQDMzMzMzs1JAAAAAAAAgVkAAAAAAAABRQJqZmZmZmUxAzczMzMwMU0AzMzMzM5NRQJqZmZmZ+VRAMzMzMzPzTUBmZmZmZkZTQDMzMzMzc1BAMzMzMzMzS0AAAAAAAEBXQGZmZmZmZlRA\",\"dtype\":\"float64\",\"order\":\"little\",\"shape\":[78]}},\"selected\":{\"id\":\"1702\"},\"selection_policy\":{\"id\":\"1701\"}},\"id\":\"1550\",\"type\":\"ColumnDataSource\"},{\"attributes\":{},\"id\":\"1702\",\"type\":\"Selection\"},{\"attributes\":{},\"id\":\"1520\",\"type\":\"DataRange1d\"},{\"attributes\":{},\"id\":\"1526\",\"type\":\"LinearScale\"},{\"attributes\":{\"fill_alpha\":{\"value\":0.1},\"fill_color\":{\"value\":\"#1f77b4\"},\"hatch_alpha\":{\"value\":0.1},\"line_alpha\":{\"value\":0.1},\"line_color\":{\"value\":\"#1f77b4\"},\"x\":{\"field\":\"x\"},\"y\":{\"field\":\"y\"}},\"id\":\"1552\",\"type\":\"Scatter\"},{\"attributes\":{},\"id\":\"1522\",\"type\":\"DataRange1d\"},{\"attributes\":{},\"id\":\"1529\",\"type\":\"BasicTicker\"},{\"attributes\":{\"axis\":{\"id\":\"1528\"},\"coordinates\":null,\"group\":null,\"ticker\":null},\"id\":\"1531\",\"type\":\"Grid\"},{\"attributes\":{},\"id\":\"1524\",\"type\":\"LinearScale\"},{\"attributes\":{},\"id\":\"1699\",\"type\":\"BasicTickFormatter\"},{\"attributes\":{\"axis_label\":\"Age of 1st Ultramarathon\",\"coordinates\":null,\"formatter\":{\"id\":\"1699\"},\"group\":null,\"major_label_policy\":{\"id\":\"1700\"},\"ticker\":{\"id\":\"1529\"}},\"id\":\"1528\",\"type\":\"LinearAxis\"},{\"attributes\":{\"axis\":{\"id\":\"1532\"},\"coordinates\":null,\"dimension\":1,\"group\":null,\"ticker\":null},\"id\":\"1535\",\"type\":\"Grid\"},{\"attributes\":{},\"id\":\"1539\",\"type\":\"SaveTool\"},{\"attributes\":{},\"id\":\"1540\",\"type\":\"ResetTool\"},{\"attributes\":{},\"id\":\"1533\",\"type\":\"BasicTicker\"},{\"attributes\":{},\"id\":\"1696\",\"type\":\"BasicTickFormatter\"},{\"attributes\":{},\"id\":\"1541\",\"type\":\"HelpTool\"},{\"attributes\":{\"bottom_units\":\"screen\",\"coordinates\":null,\"fill_alpha\":0.5,\"fill_color\":\"lightgrey\",\"group\":null,\"left_units\":\"screen\",\"level\":\"overlay\",\"line_alpha\":1.0,\"line_color\":\"black\",\"line_dash\":[4,4],\"line_width\":2,\"right_units\":\"screen\",\"syncable\":false,\"top_units\":\"screen\"},\"id\":\"1542\",\"type\":\"BoxAnnotation\"},{\"attributes\":{\"tools\":[{\"id\":\"1536\"},{\"id\":\"1537\"},{\"id\":\"1538\"},{\"id\":\"1539\"},{\"id\":\"1540\"},{\"id\":\"1541\"}]},\"id\":\"1543\",\"type\":\"Toolbar\"},{\"attributes\":{},\"id\":\"1697\",\"type\":\"AllLabels\"},{\"attributes\":{},\"id\":\"1537\",\"type\":\"WheelZoomTool\"},{\"attributes\":{},\"id\":\"1536\",\"type\":\"PanTool\"}],\"root_ids\":[\"1517\"]},\"title\":\"Bokeh Application\",\"version\":\"2.4.3\"}};\n",
       "  const render_items = [{\"docid\":\"e20cfc42-a079-4f7d-94e4-a035d16d1279\",\"root_ids\":[\"1517\"],\"roots\":{\"1517\":\"31eec435-a6c6-42f3-ac43-598543faa5df\"}}];\n",
       "  root.Bokeh.embed.embed_items_notebook(docs_json, render_items);\n",
       "  }\n",
       "  if (root.Bokeh !== undefined) {\n",
       "    embed_document(root);\n",
       "  } else {\n",
       "    let attempts = 0;\n",
       "    const timer = setInterval(function(root) {\n",
       "      if (root.Bokeh !== undefined) {\n",
       "        clearInterval(timer);\n",
       "        embed_document(root);\n",
       "      } else {\n",
       "        attempts++;\n",
       "        if (attempts > 100) {\n",
       "          clearInterval(timer);\n",
       "          console.log(\"Bokeh: ERROR: Unable to run BokehJS code because BokehJS library is missing\");\n",
       "        }\n",
       "      }\n",
       "    }, 10, root)\n",
       "  }\n",
       "})(window);"
      ],
      "application/vnd.bokehjs_exec.v0+json": ""
     },
     "metadata": {
      "application/vnd.bokehjs_exec.v0+json": {
       "id": "1517"
      }
     },
     "output_type": "display_data"
    }
   ],
   "source": [
    "height=figure(width=400,height=400,title='Age of 1st Ultramarathon and Height')\n",
    "height.scatter(x=age,y=height25)\n",
    "height.xaxis.axis_label='Age of 1st Ultramarathon'\n",
    "height.yaxis.axis_label='Weekly Mileage (km)'\n",
    "\n",
    "weight=figure(width=400,height=400,title='Age of 1st Ultramarathon and Weight')\n",
    "weight.scatter(x=age,y=weight25)\n",
    "weight.xaxis.axis_label='Age of 1st Ultramarathon'\n",
    "weight.yaxis.axis_label='Weight at 25 (kg)'\n",
    "\n",
    "show(height)\n",
    "show(weight)"
   ]
  },
  {
   "cell_type": "markdown",
   "id": "6b1708b8",
   "metadata": {},
   "source": [
    "These graphs appear to be much more predicative than earlier. We similarly compute the correlation coefficient."
   ]
  },
  {
   "cell_type": "code",
   "execution_count": 13,
   "id": "6250d061",
   "metadata": {},
   "outputs": [
    {
     "name": "stdout",
     "output_type": "stream",
     "text": [
      "Correlation\n",
      "Height: 0.006927987546289202\n",
      "Weight: 0.025083503746599928\n"
     ]
    }
   ],
   "source": [
    "print('Correlation')\n",
    "height_coeff = np.corrcoef(age, height25)[0][1] ** 2\n",
    "weight_coeff = np.corrcoef(age, weight25)[0][1] ** 2\n",
    "print('Height:', height_coeff)\n",
    "print('Weight:', weight_coeff)"
   ]
  },
  {
   "cell_type": "markdown",
   "id": "eab670ce",
   "metadata": {},
   "source": [
    "We again find little correlation in our data, suggesting that the age you run your first ultramarathon at is unlikely to affect height and weight in your mid 20's. We will consider linear regression however, to see if the method of least squares will provide more insightful results. We consider the weight graph due to its higher correlation coefficient."
   ]
  },
  {
   "cell_type": "markdown",
   "id": "dddbaa6e",
   "metadata": {},
   "source": [
    "We compute this using the same process as the previous example. We similarly check for the shape of H."
   ]
  },
  {
   "cell_type": "code",
   "execution_count": 14,
   "id": "0b59252e",
   "metadata": {},
   "outputs": [
    {
     "name": "stdout",
     "output_type": "stream",
     "text": [
      "(78, 2)\n"
     ]
    }
   ],
   "source": [
    "H = np.array(age)\n",
    "H = H.reshape(-1,1)\n",
    "ones = np.ones(H.shape)\n",
    "H = np.concatenate([H, ones], axis = 1)\n",
    "\n",
    "print(H.shape)"
   ]
  },
  {
   "cell_type": "code",
   "execution_count": 15,
   "id": "e0e6fed5",
   "metadata": {},
   "outputs": [
    {
     "data": {
      "text/html": [
       "\n",
       "  <div class=\"bk-root\" id=\"d2cf2403-5c66-4665-a7bb-7ae1b225cec2\" data-root-id=\"1517\"></div>\n"
      ]
     },
     "metadata": {},
     "output_type": "display_data"
    },
    {
     "data": {
      "application/javascript": [
       "(function(root) {\n",
       "  function embed_document(root) {\n",
       "  const docs_json = {\"cdc1b7da-f26c-4670-9a40-4f53aac1e8de\":{\"defs\":[],\"roots\":{\"references\":[{\"attributes\":{\"below\":[{\"id\":\"1528\"}],\"center\":[{\"id\":\"1531\"},{\"id\":\"1535\"}],\"height\":400,\"left\":[{\"id\":\"1532\"}],\"renderers\":[{\"id\":\"1554\"},{\"id\":\"1758\"},{\"id\":\"1820\"}],\"title\":{\"id\":\"1518\"},\"toolbar\":{\"id\":\"1543\"},\"width\":400,\"x_range\":{\"id\":\"1520\"},\"x_scale\":{\"id\":\"1524\"},\"y_range\":{\"id\":\"1522\"},\"y_scale\":{\"id\":\"1526\"}},\"id\":\"1517\",\"subtype\":\"Figure\",\"type\":\"Plot\"},{\"attributes\":{\"overlay\":{\"id\":\"1542\"}},\"id\":\"1538\",\"type\":\"BoxZoomTool\"},{\"attributes\":{\"fill_color\":{\"value\":\"#1f77b4\"},\"line_color\":{\"value\":\"#1f77b4\"},\"x\":{\"field\":\"x\"},\"y\":{\"field\":\"y\"}},\"id\":\"1551\",\"type\":\"Scatter\"},{\"attributes\":{\"axis_label\":\"Weight at 25 (kg)\",\"coordinates\":null,\"formatter\":{\"id\":\"1696\"},\"group\":null,\"major_label_policy\":{\"id\":\"1697\"},\"ticker\":{\"id\":\"1533\"}},\"id\":\"1532\",\"type\":\"LinearAxis\"},{\"attributes\":{\"fill_alpha\":{\"value\":0.2},\"fill_color\":{\"value\":\"#1f77b4\"},\"hatch_alpha\":{\"value\":0.2},\"line_alpha\":{\"value\":0.2},\"line_color\":{\"value\":\"#1f77b4\"},\"x\":{\"field\":\"x\"},\"y\":{\"field\":\"y\"}},\"id\":\"1553\",\"type\":\"Scatter\"},{\"attributes\":{\"line_alpha\":0.1,\"line_color\":\"red\",\"x\":{\"field\":\"x\"},\"y\":{\"field\":\"y\"}},\"id\":\"1818\",\"type\":\"Line\"},{\"attributes\":{},\"id\":\"1700\",\"type\":\"AllLabels\"},{\"attributes\":{\"source\":{\"id\":\"1550\"}},\"id\":\"1555\",\"type\":\"CDSView\"},{\"attributes\":{\"coordinates\":null,\"group\":null,\"text\":\"Age of 1st Ultramarathon and Weight\"},\"id\":\"1518\",\"type\":\"Title\"},{\"attributes\":{\"line_color\":\"red\",\"x\":{\"field\":\"x\"},\"y\":{\"field\":\"y\"}},\"id\":\"1817\",\"type\":\"Line\"},{\"attributes\":{\"coordinates\":null,\"data_source\":{\"id\":\"1550\"},\"glyph\":{\"id\":\"1551\"},\"group\":null,\"hover_glyph\":null,\"muted_glyph\":{\"id\":\"1553\"},\"nonselection_glyph\":{\"id\":\"1552\"},\"view\":{\"id\":\"1555\"}},\"id\":\"1554\",\"type\":\"GlyphRenderer\"},{\"attributes\":{},\"id\":\"1878\",\"type\":\"Selection\"},{\"attributes\":{\"data\":{\"x\":[11,17,18,15,18,16,16,18,18,18,14,13,12,8,9,17,18,14,16,16,16,18,17,15,17,15,17,16,18,16,18,18,11,16,16,18,17,18,16,16,18,9,15,13,13,18,17,17,15,17,17,18,16,16,16,14,17,18,16,15,18,17,18,18,18,14,16,17,18,16,18,15,18,18,16,18,16,18],\"y\":{\"__ndarray__\":\"9sFm++hvUUA2clQVO59SQAllUcTI0VJA6Yxatx86UkAJZVHEyNFSQI9/V2atbFJAj39XZq1sUkAJZVHEyNFSQAllUcTI0VJACWVRxMjRUkAWml0IkgdSQG6nYFkE1VFAx7RjqnaiUUDX6W/uP9hQQJTcbJ3NClFANnJUFTufUkAJZVHEyNFSQBaaXQiSB1JAj39XZq1sUkCPf1dmrWxSQI9/V2atbFJACWVRxMjRUkA2clQVO59SQOmMWrcfOlJANnJUFTufUkDpjFq3HzpSQDZyVBU7n1JAj39XZq1sUkAJZVHEyNFSQI9/V2atbFJACWVRxMjRUkAJZVHEyNFSQPbBZvvob1FAj39XZq1sUkCPf1dmrWxSQAllUcTI0VJANnJUFTufUkAJZVHEyNFSQI9/V2atbFJAj39XZq1sUkAJZVHEyNFSQJTcbJ3NClFA6Yxatx86UkBup2BZBNVRQG6nYFkE1VFACWVRxMjRUkA2clQVO59SQDZyVBU7n1JA6Yxatx86UkA2clQVO59SQDZyVBU7n1JACWVRxMjRUkCPf1dmrWxSQI9/V2atbFJAj39XZq1sUkAWml0IkgdSQDZyVBU7n1JACWVRxMjRUkCPf1dmrWxSQOmMWrcfOlJACWVRxMjRUkA2clQVO59SQAllUcTI0VJACWVRxMjRUkAJZVHEyNFSQBaaXQiSB1JAj39XZq1sUkA2clQVO59SQAllUcTI0VJAj39XZq1sUkAJZVHEyNFSQOmMWrcfOlJACWVRxMjRUkAJZVHEyNFSQI9/V2atbFJACWVRxMjRUkCPf1dmrWxSQAllUcTI0VJA\",\"dtype\":\"float64\",\"order\":\"little\",\"shape\":[78]}},\"selected\":{\"id\":\"1878\"},\"selection_policy\":{\"id\":\"1877\"}},\"id\":\"1816\",\"type\":\"ColumnDataSource\"},{\"attributes\":{\"source\":{\"id\":\"1816\"}},\"id\":\"1821\",\"type\":\"CDSView\"},{\"attributes\":{},\"id\":\"1701\",\"type\":\"UnionRenderers\"},{\"attributes\":{},\"id\":\"1877\",\"type\":\"UnionRenderers\"},{\"attributes\":{\"data\":{\"x\":[11,17,18,15,18,16,16,18,18,18,14,13,12,8,9,17,18,14,16,16,16,18,17,15,17,15,17,16,18,16,18,18,11,16,16,18,17,18,16,16,18,9,15,13,13,18,17,17,15,17,17,18,16,16,16,14,17,18,16,15,18,17,18,18,18,14,16,17,18,16,18,15,18,18,16,18,16,18],\"y\":{\"__ndarray__\":\"mpmZmZmZTkCamZmZmRlQQAAAAAAAAE9AmpmZmZnZU0BmZmZmZiZSQAAAAAAAAFBAZmZmZmZmU0CamZmZmZlSQAAAAAAAQFNAAAAAAACAS0AAAAAAAABRQJqZmZmZeVJAZmZmZmbGUEAAAAAAAIBMQAAAAAAAAFFAAAAAAAAAUUBmZmZmZoZZQGZmZmZmJlJAmpmZmZn5VEDNzMzMzKxWQJqZmZmZ+VRAmpmZmZkZSkBmZmZmZiZSQGZmZmZmZlRAmpmZmZn5VEBmZmZmZkZTQAAAAAAAQFdAmpmZmZnZU0CamZmZmZlOQJqZmZmZ+VRAAAAAAADAT0DNzMzMzOxRQAAAAAAAwE9AAAAAAAAAUUBmZmZmZiZSQAAAAAAAwE9AAAAAAADAT0BmZmZmZmZUQAAAAAAAwE9AMzMzMzOTUUAAAAAAAABLQJqZmZmZmU5AzczMzMysVkAzMzMzM5NRQJqZmZmZmU5AAAAAAADAT0BmZmZmZmZUQDMzMzMzc1ZAmpmZmZn5VECamZmZmVlMQM3MzMzMjFVAZmZmZmZGU0BmZmZmZkZTQM3MzMzMjFVAZmZmZmZGU0BmZmZmZqZLQAAAAAAAQFdAmpmZmZn5VEAAAAAAACBWQJqZmZmZ2VNAmpmZmZnZU0BmZmZmZkZTQDMzMzMzk1FAMzMzMzMTVEAAAAAAACBWQDMzMzMzs1JAAAAAAAAgVkAAAAAAAABRQJqZmZmZmUxAzczMzMwMU0AzMzMzM5NRQJqZmZmZ+VRAMzMzMzPzTUBmZmZmZkZTQDMzMzMzc1BAMzMzMzMzS0AAAAAAAEBXQGZmZmZmZlRA\",\"dtype\":\"float64\",\"order\":\"little\",\"shape\":[78]}},\"selected\":{\"id\":\"1702\"},\"selection_policy\":{\"id\":\"1701\"}},\"id\":\"1550\",\"type\":\"ColumnDataSource\"},{\"attributes\":{},\"id\":\"1702\",\"type\":\"Selection\"},{\"attributes\":{\"coordinates\":null,\"data_source\":{\"id\":\"1816\"},\"glyph\":{\"id\":\"1817\"},\"group\":null,\"hover_glyph\":null,\"muted_glyph\":{\"id\":\"1819\"},\"nonselection_glyph\":{\"id\":\"1818\"},\"view\":{\"id\":\"1821\"}},\"id\":\"1820\",\"type\":\"GlyphRenderer\"},{\"attributes\":{},\"id\":\"1520\",\"type\":\"DataRange1d\"},{\"attributes\":{},\"id\":\"1526\",\"type\":\"LinearScale\"},{\"attributes\":{\"fill_alpha\":{\"value\":0.1},\"fill_color\":{\"value\":\"#1f77b4\"},\"hatch_alpha\":{\"value\":0.1},\"line_alpha\":{\"value\":0.1},\"line_color\":{\"value\":\"#1f77b4\"},\"x\":{\"field\":\"x\"},\"y\":{\"field\":\"y\"}},\"id\":\"1552\",\"type\":\"Scatter\"},{\"attributes\":{},\"id\":\"1522\",\"type\":\"DataRange1d\"},{\"attributes\":{\"data\":{\"x\":[11,17,18,15,18,16,16,18,18,18,14,13,12,8,9,17,18,14,16,16,16,18,17,15,17,15,17,16,18,16,18,18,11,16,16,18,17,18,16,16,18,9,15,13,13,18,17,17,15,17,17,18,16,16,16,14,17,18,16,15,18,17,18,18,18,14,16,17,18,16,18,15,18,18,16,18,16,18],\"y\":{\"__ndarray__\":\"9sFm++hvUUA2clQVO59SQAllUcTI0VJA6Yxatx86UkAJZVHEyNFSQI9/V2atbFJAj39XZq1sUkAJZVHEyNFSQAllUcTI0VJACWVRxMjRUkAWml0IkgdSQG6nYFkE1VFAx7RjqnaiUUDX6W/uP9hQQJTcbJ3NClFANnJUFTufUkAJZVHEyNFSQBaaXQiSB1JAj39XZq1sUkCPf1dmrWxSQI9/V2atbFJACWVRxMjRUkA2clQVO59SQOmMWrcfOlJANnJUFTufUkDpjFq3HzpSQDZyVBU7n1JAj39XZq1sUkAJZVHEyNFSQI9/V2atbFJACWVRxMjRUkAJZVHEyNFSQPbBZvvob1FAj39XZq1sUkCPf1dmrWxSQAllUcTI0VJANnJUFTufUkAJZVHEyNFSQI9/V2atbFJAj39XZq1sUkAJZVHEyNFSQJTcbJ3NClFA6Yxatx86UkBup2BZBNVRQG6nYFkE1VFACWVRxMjRUkA2clQVO59SQDZyVBU7n1JA6Yxatx86UkA2clQVO59SQDZyVBU7n1JACWVRxMjRUkCPf1dmrWxSQI9/V2atbFJAj39XZq1sUkAWml0IkgdSQDZyVBU7n1JACWVRxMjRUkCPf1dmrWxSQOmMWrcfOlJACWVRxMjRUkA2clQVO59SQAllUcTI0VJACWVRxMjRUkAJZVHEyNFSQBaaXQiSB1JAj39XZq1sUkA2clQVO59SQAllUcTI0VJAj39XZq1sUkAJZVHEyNFSQOmMWrcfOlJACWVRxMjRUkAJZVHEyNFSQI9/V2atbFJACWVRxMjRUkCPf1dmrWxSQAllUcTI0VJA\",\"dtype\":\"float64\",\"order\":\"little\",\"shape\":[78]}},\"selected\":{\"id\":\"1814\"},\"selection_policy\":{\"id\":\"1813\"}},\"id\":\"1754\",\"type\":\"ColumnDataSource\"},{\"attributes\":{},\"id\":\"1529\",\"type\":\"BasicTicker\"},{\"attributes\":{\"axis\":{\"id\":\"1528\"},\"coordinates\":null,\"group\":null,\"ticker\":null},\"id\":\"1531\",\"type\":\"Grid\"},{\"attributes\":{},\"id\":\"1813\",\"type\":\"UnionRenderers\"},{\"attributes\":{},\"id\":\"1524\",\"type\":\"LinearScale\"},{\"attributes\":{\"coordinates\":null,\"data_source\":{\"id\":\"1754\"},\"glyph\":{\"id\":\"1755\"},\"group\":null,\"hover_glyph\":null,\"muted_glyph\":{\"id\":\"1757\"},\"nonselection_glyph\":{\"id\":\"1756\"},\"view\":{\"id\":\"1759\"}},\"id\":\"1758\",\"type\":\"GlyphRenderer\"},{\"attributes\":{},\"id\":\"1699\",\"type\":\"BasicTickFormatter\"},{\"attributes\":{\"axis_label\":\"Age of 1st Ultramarathon\",\"coordinates\":null,\"formatter\":{\"id\":\"1699\"},\"group\":null,\"major_label_policy\":{\"id\":\"1700\"},\"ticker\":{\"id\":\"1529\"}},\"id\":\"1528\",\"type\":\"LinearAxis\"},{\"attributes\":{\"axis\":{\"id\":\"1532\"},\"coordinates\":null,\"dimension\":1,\"group\":null,\"ticker\":null},\"id\":\"1535\",\"type\":\"Grid\"},{\"attributes\":{},\"id\":\"1539\",\"type\":\"SaveTool\"},{\"attributes\":{},\"id\":\"1540\",\"type\":\"ResetTool\"},{\"attributes\":{},\"id\":\"1533\",\"type\":\"BasicTicker\"},{\"attributes\":{},\"id\":\"1696\",\"type\":\"BasicTickFormatter\"},{\"attributes\":{},\"id\":\"1814\",\"type\":\"Selection\"},{\"attributes\":{\"line_alpha\":0.2,\"line_color\":\"red\",\"x\":{\"field\":\"x\"},\"y\":{\"field\":\"y\"}},\"id\":\"1819\",\"type\":\"Line\"},{\"attributes\":{\"source\":{\"id\":\"1754\"}},\"id\":\"1759\",\"type\":\"CDSView\"},{\"attributes\":{},\"id\":\"1541\",\"type\":\"HelpTool\"},{\"attributes\":{\"fill_alpha\":{\"value\":0.1},\"fill_color\":{\"value\":\"red\"},\"hatch_alpha\":{\"value\":0.1},\"hatch_color\":{\"value\":\"red\"},\"line_alpha\":{\"value\":0.1},\"line_color\":{\"value\":\"red\"},\"x\":{\"field\":\"x\"},\"y\":{\"field\":\"y\"}},\"id\":\"1756\",\"type\":\"Scatter\"},{\"attributes\":{\"bottom_units\":\"screen\",\"coordinates\":null,\"fill_alpha\":0.5,\"fill_color\":\"lightgrey\",\"group\":null,\"left_units\":\"screen\",\"level\":\"overlay\",\"line_alpha\":1.0,\"line_color\":\"black\",\"line_dash\":[4,4],\"line_width\":2,\"right_units\":\"screen\",\"syncable\":false,\"top_units\":\"screen\"},\"id\":\"1542\",\"type\":\"BoxAnnotation\"},{\"attributes\":{\"tools\":[{\"id\":\"1536\"},{\"id\":\"1537\"},{\"id\":\"1538\"},{\"id\":\"1539\"},{\"id\":\"1540\"},{\"id\":\"1541\"}]},\"id\":\"1543\",\"type\":\"Toolbar\"},{\"attributes\":{\"fill_color\":{\"value\":\"red\"},\"hatch_color\":{\"value\":\"red\"},\"line_color\":{\"value\":\"red\"},\"x\":{\"field\":\"x\"},\"y\":{\"field\":\"y\"}},\"id\":\"1755\",\"type\":\"Scatter\"},{\"attributes\":{},\"id\":\"1697\",\"type\":\"AllLabels\"},{\"attributes\":{},\"id\":\"1537\",\"type\":\"WheelZoomTool\"},{\"attributes\":{\"fill_alpha\":{\"value\":0.2},\"fill_color\":{\"value\":\"red\"},\"hatch_alpha\":{\"value\":0.2},\"hatch_color\":{\"value\":\"red\"},\"line_alpha\":{\"value\":0.2},\"line_color\":{\"value\":\"red\"},\"x\":{\"field\":\"x\"},\"y\":{\"field\":\"y\"}},\"id\":\"1757\",\"type\":\"Scatter\"},{\"attributes\":{},\"id\":\"1536\",\"type\":\"PanTool\"}],\"root_ids\":[\"1517\"]},\"title\":\"Bokeh Application\",\"version\":\"2.4.3\"}};\n",
       "  const render_items = [{\"docid\":\"cdc1b7da-f26c-4670-9a40-4f53aac1e8de\",\"root_ids\":[\"1517\"],\"roots\":{\"1517\":\"d2cf2403-5c66-4665-a7bb-7ae1b225cec2\"}}];\n",
       "  root.Bokeh.embed.embed_items_notebook(docs_json, render_items);\n",
       "  }\n",
       "  if (root.Bokeh !== undefined) {\n",
       "    embed_document(root);\n",
       "  } else {\n",
       "    let attempts = 0;\n",
       "    const timer = setInterval(function(root) {\n",
       "      if (root.Bokeh !== undefined) {\n",
       "        clearInterval(timer);\n",
       "        embed_document(root);\n",
       "      } else {\n",
       "        attempts++;\n",
       "        if (attempts > 100) {\n",
       "          clearInterval(timer);\n",
       "          console.log(\"Bokeh: ERROR: Unable to run BokehJS code because BokehJS library is missing\");\n",
       "        }\n",
       "      }\n",
       "    }, 10, root)\n",
       "  }\n",
       "})(window);"
      ],
      "application/vnd.bokehjs_exec.v0+json": ""
     },
     "metadata": {
      "application/vnd.bokehjs_exec.v0+json": {
       "id": "1517"
      }
     },
     "output_type": "display_data"
    }
   ],
   "source": [
    "W = np.array(weight25)\n",
    "W = W.reshape(-1,1)\n",
    "\n",
    "D = np.dot(H.transpose(),H)\n",
    "M = np.dot(np.linalg.inv(D),np.dot(H.transpose(), W))\n",
    "Yhat = np.dot(np.dot(np.dot(H,np.linalg.inv(D)),H.transpose()),W)\n",
    "weight.scatter(x=age,y=Yhat[:,0],color='red')\n",
    "weight.line(x=age,y=Yhat[:,0],color='red')\n",
    "show(weight)"
   ]
  },
  {
   "cell_type": "markdown",
   "id": "9cb93094",
   "metadata": {},
   "source": [
    "Our line of best fit here does almost the opposite of what we saw previously. In our previous least squares example, we had a lot of the data skewered on the left side of the graph, however this data is skewered to the right, making it difficult for the least squares method to show much."
   ]
  },
  {
   "cell_type": "markdown",
   "id": "8c12104e",
   "metadata": {},
   "source": [
    "### Injuries and Ultramarathons"
   ]
  },
  {
   "cell_type": "markdown",
   "id": "07ea0b28",
   "metadata": {},
   "source": [
    "We lastly consider injuries. Earlier on it was noted that ultramarathons are often not ran this early in one's life due to potential to harm development. There appeared to be minimal correlation between this and weight or height at the age of 25. We would like to consider injuries now, specifically, the probability of injury given an ultramarathon."
   ]
  },
  {
   "cell_type": "markdown",
   "id": "53840264",
   "metadata": {},
   "source": [
    "Let's consider the odds of injury given that we ran an Ultramarathon. Using Baye's theorem, we obtain the following result:\n",
    "$$\n",
    "P(A\\vert B) = \\frac{P(A\\cap B)}{P(B)}\n",
    "$$"
   ]
  },
  {
   "cell_type": "markdown",
   "id": "49457363",
   "metadata": {},
   "source": [
    "Unfortunately for us, we do not have the percentage of under 19 year olds who have ran an ultramarathon. So let us instead consider how the age of a 1st ultramarathon effects. We will have to denote these into age \"buckets\" in order to get a probability."
   ]
  },
  {
   "cell_type": "code",
   "execution_count": 16,
   "id": "65950cc5",
   "metadata": {},
   "outputs": [],
   "source": [
    "A = np.array(ultramarathon[\"AGE_1ST_UM\"])\n",
    "N = A.shape[0]\n",
    "Injury = np.array(ultramarathon['SUFFERED_UM_INJURIES_UNDER_19'])"
   ]
  },
  {
   "cell_type": "code",
   "execution_count": 18,
   "id": "5147b098",
   "metadata": {},
   "outputs": [],
   "source": [
    "# saves time later, counts less than\n",
    "def count(age, col):\n",
    "    total = 0\n",
    "    for i in col:\n",
    "        if i < age:\n",
    "            total += 1\n",
    "    return total"
   ]
  },
  {
   "cell_type": "code",
   "execution_count": 19,
   "id": "da0f0c00",
   "metadata": {},
   "outputs": [
    {
     "name": "stdout",
     "output_type": "stream",
     "text": [
      "Less than 19: 1.0\n",
      "Less than 17: 0.5\n",
      "Less than 15: 0.16666666666666666\n",
      "Less than 13: 0.07692307692307693\n"
     ]
    }
   ],
   "source": [
    "less_19 = count(19, A) / N\n",
    "less_17 = count(17, A) / N\n",
    "less_15 = count(15, A) / N\n",
    "less_13 = count(13, A) / N\n",
    "\n",
    "print('Less than 19:', less_19)\n",
    "print('Less than 17:', less_17)\n",
    "print('Less than 15:', less_15)\n",
    "print('Less than 13:', less_13)"
   ]
  },
  {
   "cell_type": "markdown",
   "id": "e0e3f58a",
   "metadata": {},
   "source": [
    "These are our probabilities to be in a given age bucket. Below is a function to find the odds of having been hurt before the age of 19 as well as below a given age."
   ]
  },
  {
   "cell_type": "code",
   "execution_count": 20,
   "id": "aa33041e",
   "metadata": {},
   "outputs": [],
   "source": [
    "def injuries(ages, injuries, age):\n",
    "    total = 0\n",
    "    for i in range(N):\n",
    "        if ((ages[i] < age) and (injuries[i] == 'Yes')):\n",
    "            total += 1\n",
    "    return total / N"
   ]
  },
  {
   "cell_type": "markdown",
   "id": "012252f9",
   "metadata": {},
   "source": [
    "We now return these probabilities."
   ]
  },
  {
   "cell_type": "code",
   "execution_count": 21,
   "id": "ae3fa8bd",
   "metadata": {},
   "outputs": [
    {
     "name": "stdout",
     "output_type": "stream",
     "text": [
      "Given less than 19 the odds a participant was hurt: 0.23076923076923078\n",
      "Given less than 17 the odds a participant was hurt: 0.2564102564102564\n",
      "Given less than 15 the odds a participant was hurt: 0.3076923076923077\n",
      "Given less than 13 the odds a participant was hurt: 0.5\n"
     ]
    }
   ],
   "source": [
    "print('Given less than 19 the odds a participant was hurt:', injuries(A, Injury, 19) / less_19)\n",
    "print('Given less than 17 the odds a participant was hurt:', injuries(A, Injury, 17) / less_17)\n",
    "print('Given less than 15 the odds a participant was hurt:', injuries(A, Injury, 15) / less_15)\n",
    "print('Given less than 13 the odds a participant was hurt:', injuries(A, Injury, 13) / less_13)"
   ]
  },
  {
   "cell_type": "markdown",
   "id": "54823f3e",
   "metadata": {},
   "source": [
    "Notice that a particpants odds of getting injured increase as their age decreases. This supports the idea of running an ultramarathon too early could lead to pain down the road."
   ]
  },
  {
   "cell_type": "markdown",
   "id": "910163ee",
   "metadata": {},
   "source": [
    "### Conclusions"
   ]
  },
  {
   "cell_type": "markdown",
   "id": "343f5126",
   "metadata": {},
   "source": [
    "We were not able to deduce much about running ultramarathons before the age of 19 when it comes to many outcomes. The participant data pool was relatively small, but that is expected as ultramarathons is still a niche sport to this day. However, where we were able to succeed was how our body handles running ultramarathons at an early age. There is a connection between injuries and age, for example."
   ]
  },
  {
   "cell_type": "markdown",
   "id": "9b2afbfd",
   "metadata": {},
   "source": [
    "One other factor to consider in these results is the other results of the questionaire in which this data comes from. In addition to some of the quanitative data that we tested against was qualitative data. This data was more difficult to extract. Other data that in the questionaire that has potential is time related factors. For example, we have height and weight data for participants at their current age (which varies)."
   ]
  },
  {
   "cell_type": "markdown",
   "id": "b316f75b",
   "metadata": {},
   "source": [
    "#### Sources"
   ]
  },
  {
   "cell_type": "markdown",
   "id": "f109e4c6",
   "metadata": {},
   "source": [
    "https://www.kaggle.com/datasets/aiaiaidavid/childhood-ultramarathon-runner-study-jan-2020?select=Childhood+Ultramarathon+Runner+Study_January+18++2020_16.50.csv"
   ]
  }
 ],
 "metadata": {
  "kernelspec": {
   "display_name": "Python 3 (ipykernel)",
   "language": "python",
   "name": "python3"
  },
  "language_info": {
   "codemirror_mode": {
    "name": "ipython",
    "version": 3
   },
   "file_extension": ".py",
   "mimetype": "text/x-python",
   "name": "python",
   "nbconvert_exporter": "python",
   "pygments_lexer": "ipython3",
   "version": "3.9.13"
  }
 },
 "nbformat": 4,
 "nbformat_minor": 5
}
